{
 "cells": [
  {
   "cell_type": "markdown",
   "metadata": {},
   "source": [
    "# Amazon Movie Viewtime Prediction\n"
   ]
  },
  {
   "cell_type": "markdown",
   "metadata": {},
   "source": [
    "## 1. Background Description"
   ]
  },
  {
   "cell_type": "markdown",
   "metadata": {},
   "source": [
    "With the unexpected Coronavirus pandemic spreads around the globe, social daily life has been severely affected. More and more people have been restricted to stay at home. In China, a province have been locked down and in Italy even the whole nation has been locked down to slow the spread of the coronavirus. People in San Francisco has been asked to shelter in place. Cinemas, stadiums, restaurants and many other local stores may not be available until the outbreak showing signs of improvement. "
   ]
  },
  {
   "cell_type": "markdown",
   "metadata": {},
   "source": [
    "<img src=\"files/Picture1.png\" width=\"720\" />"
   ]
  },
  {
   "cell_type": "markdown",
   "metadata": {},
   "source": [
    "As a result, during the outbreak, people's entertainment will shift more from offline to online. Recall the outbreak of SARS in 2003, \"Although it sickened thousands and killed almost eight hundred people, the outbreak had a curiously beneficial impact on the Chinese Internet sector, including Alibaba\", as written by Duncan Clark, an American entrepreneur and investor. Now Alibaba is worthing more than 500 billion dollars, thus, we can believe after the outbreak of coronavirus, online movies will play a more and more important role, and companies who can seize this opportunity may become the next \"Alibaba\". Imagine if you were the CEO of a company, which movies you want to import to your online platform for your members? How to make the best choice among tons of movie resources with limited budget? How to select movies to attract more members? "
   ]
  },
  {
   "cell_type": "markdown",
   "metadata": {},
   "source": [
    "<img src=\"files/Picture2.png\" width=\"600\" />"
   ]
  },
  {
   "cell_type": "markdown",
   "metadata": {},
   "source": [
    "## 2. Project Introduction"
   ]
  },
  {
   "cell_type": "markdown",
   "metadata": {},
   "source": [
    "Here, this project can provide some enlightenment to solve the problem. For this project, we will scrape information of Amazon Prime Videos as our data source, which including the ID, movie genres, release year, budget, boxoffice, content partners, cumulated viewtimes and etc. We will use a supervise learning algorithm to build a prediction model which can predict the viewtimes of a movie based on the movie information. We used Python Requests to download the HTML pages, and BeautifulSoup to process the HTML to acquire all the 16 features for more than 4000 movies and export all the data into the text file \"Amazon Prime Video data\" for the next step analysis. We will use viewtimes as the \"Y\" value for each movie and the rest 15 features as \"X\" values. "
   ]
  },
  {
   "cell_type": "markdown",
   "metadata": {},
   "source": [
    "<img src=\"files/picture3.png\" width=\"900\" />"
   ]
  },
  {
   "cell_type": "markdown",
   "metadata": {},
   "source": [
    "## 3. Data Exploration"
   ]
  },
  {
   "cell_type": "code",
   "execution_count": 2,
   "metadata": {},
   "outputs": [],
   "source": [
    "#import neccessary libraries\n",
    "import numpy as np\n",
    "import pandas as pd\n",
    "import sklearn as sl\n",
    "from sklearn.preprocessing import StandardScaler\n",
    "from sklearn.model_selection import train_test_split\n",
    "import seaborn as sns\n",
    "import matplotlib.pyplot as plt\n",
    "pd.set_option('display.float_format', lambda x: '%.3f' % x)\n",
    "pd.set_option('display.max_columns',None)\n",
    "pd.set_option('display.max_rows',None)\n",
    "pd.set_option('max_colwidth',100)"
   ]
  },
  {
   "cell_type": "markdown",
   "metadata": {},
   "source": [
    "First, let's take a look at our dataset and do some basic data exploration:"
   ]
  },
  {
   "cell_type": "code",
   "execution_count": 3,
   "metadata": {},
   "outputs": [],
   "source": [
    "tv_df = pd.read_csv('Amazon Prime Video data.txt') "
   ]
  },
  {
   "cell_type": "code",
   "execution_count": 9,
   "metadata": {},
   "outputs": [
    {
     "data": {
      "text/html": [
       "<div>\n",
       "<style scoped>\n",
       "    .dataframe tbody tr th:only-of-type {\n",
       "        vertical-align: middle;\n",
       "    }\n",
       "\n",
       "    .dataframe tbody tr th {\n",
       "        vertical-align: top;\n",
       "    }\n",
       "\n",
       "    .dataframe thead th {\n",
       "        text-align: right;\n",
       "    }\n",
       "</style>\n",
       "<table border=\"1\" class=\"dataframe\">\n",
       "  <thead>\n",
       "    <tr style=\"text-align: right;\">\n",
       "      <th></th>\n",
       "      <th>video_id</th>\n",
       "      <th>viewtimes_day</th>\n",
       "      <th>vertical_position</th>\n",
       "      <th>horizontal_poition</th>\n",
       "      <th>import_id</th>\n",
       "      <th>release_year</th>\n",
       "      <th>genres</th>\n",
       "      <th>imdb_votes</th>\n",
       "      <th>budget</th>\n",
       "      <th>boxoffice</th>\n",
       "      <th>imdb_rating</th>\n",
       "      <th>duration_in_mins</th>\n",
       "      <th>metacritic_score</th>\n",
       "      <th>awards</th>\n",
       "      <th>mpaa</th>\n",
       "      <th>star_score</th>\n",
       "    </tr>\n",
       "  </thead>\n",
       "  <tbody>\n",
       "    <tr>\n",
       "      <th>0</th>\n",
       "      <td>385504</td>\n",
       "      <td>307127.606</td>\n",
       "      <td>1</td>\n",
       "      <td>3</td>\n",
       "      <td>lionsgate</td>\n",
       "      <td>2013</td>\n",
       "      <td>Action,Thriller,Drama</td>\n",
       "      <td>69614</td>\n",
       "      <td>15000000</td>\n",
       "      <td>42930462</td>\n",
       "      <td>6.500</td>\n",
       "      <td>112.301</td>\n",
       "      <td>51</td>\n",
       "      <td>other award</td>\n",
       "      <td>PG-13</td>\n",
       "      <td>1.710</td>\n",
       "    </tr>\n",
       "    <tr>\n",
       "      <th>1</th>\n",
       "      <td>300175</td>\n",
       "      <td>270338.426</td>\n",
       "      <td>1</td>\n",
       "      <td>3</td>\n",
       "      <td>lionsgate</td>\n",
       "      <td>2013</td>\n",
       "      <td>Comedy,Crime,Thriller</td>\n",
       "      <td>46705</td>\n",
       "      <td>15000000</td>\n",
       "      <td>3301046</td>\n",
       "      <td>6.500</td>\n",
       "      <td>94.983</td>\n",
       "      <td>41</td>\n",
       "      <td>no award</td>\n",
       "      <td>R</td>\n",
       "      <td>3.250</td>\n",
       "    </tr>\n",
       "    <tr>\n",
       "      <th>2</th>\n",
       "      <td>361899</td>\n",
       "      <td>256165.867</td>\n",
       "      <td>1</td>\n",
       "      <td>3</td>\n",
       "      <td>other</td>\n",
       "      <td>2012</td>\n",
       "      <td>Crime,Drama</td>\n",
       "      <td>197596</td>\n",
       "      <td>26000000</td>\n",
       "      <td>37397291</td>\n",
       "      <td>7.300</td>\n",
       "      <td>115.764</td>\n",
       "      <td>58</td>\n",
       "      <td>other award</td>\n",
       "      <td>R</td>\n",
       "      <td>2.647</td>\n",
       "    </tr>\n",
       "    <tr>\n",
       "      <th>3</th>\n",
       "      <td>308314</td>\n",
       "      <td>196622.721</td>\n",
       "      <td>3</td>\n",
       "      <td>4</td>\n",
       "      <td>lionsgate</td>\n",
       "      <td>2008</td>\n",
       "      <td>Thriller,Drama,War,Documentary,Mystery,Action</td>\n",
       "      <td>356339</td>\n",
       "      <td>15000000</td>\n",
       "      <td>15700000</td>\n",
       "      <td>7.600</td>\n",
       "      <td>130.704</td>\n",
       "      <td>94</td>\n",
       "      <td>Oscar</td>\n",
       "      <td>R</td>\n",
       "      <td>1.667</td>\n",
       "    </tr>\n",
       "    <tr>\n",
       "      <th>4</th>\n",
       "      <td>307201</td>\n",
       "      <td>159841.652</td>\n",
       "      <td>1</td>\n",
       "      <td>3</td>\n",
       "      <td>lionsgate</td>\n",
       "      <td>2013</td>\n",
       "      <td>Crime,Thriller,Mystery,Documentary</td>\n",
       "      <td>46720</td>\n",
       "      <td>27220000</td>\n",
       "      <td>8551228</td>\n",
       "      <td>6.400</td>\n",
       "      <td>105.546</td>\n",
       "      <td>37</td>\n",
       "      <td>other award</td>\n",
       "      <td>R</td>\n",
       "      <td>3.067</td>\n",
       "    </tr>\n",
       "  </tbody>\n",
       "</table>\n",
       "</div>"
      ],
      "text/plain": [
       "   video_id  viewtimes_day  vertical_position  horizontal_poition  import_id  \\\n",
       "0    385504     307127.606                  1                   3  lionsgate   \n",
       "1    300175     270338.426                  1                   3  lionsgate   \n",
       "2    361899     256165.867                  1                   3      other   \n",
       "3    308314     196622.721                  3                   4  lionsgate   \n",
       "4    307201     159841.652                  1                   3  lionsgate   \n",
       "\n",
       "   release_year                                         genres  imdb_votes  \\\n",
       "0          2013                          Action,Thriller,Drama       69614   \n",
       "1          2013                          Comedy,Crime,Thriller       46705   \n",
       "2          2012                                    Crime,Drama      197596   \n",
       "3          2008  Thriller,Drama,War,Documentary,Mystery,Action      356339   \n",
       "4          2013             Crime,Thriller,Mystery,Documentary       46720   \n",
       "\n",
       "     budget  boxoffice  imdb_rating  duration_in_mins  metacritic_score  \\\n",
       "0  15000000   42930462        6.500           112.301                51   \n",
       "1  15000000    3301046        6.500            94.983                41   \n",
       "2  26000000   37397291        7.300           115.764                58   \n",
       "3  15000000   15700000        7.600           130.704                94   \n",
       "4  27220000    8551228        6.400           105.546                37   \n",
       "\n",
       "        awards   mpaa  star_score  \n",
       "0  other award  PG-13       1.710  \n",
       "1     no award      R       3.250  \n",
       "2  other award      R       2.647  \n",
       "3        Oscar      R       1.667  \n",
       "4  other award      R       3.067  "
      ]
     },
     "execution_count": 9,
     "metadata": {},
     "output_type": "execute_result"
    }
   ],
   "source": [
    "tv_df.head()"
   ]
  },
  {
   "cell_type": "code",
   "execution_count": 10,
   "metadata": {},
   "outputs": [
    {
     "name": "stdout",
     "output_type": "stream",
     "text": [
      "4226 16\n"
     ]
    }
   ],
   "source": [
    "print(tv_df.shape[0],tv_df.shape[1])"
   ]
  },
  {
   "cell_type": "code",
   "execution_count": 11,
   "metadata": {},
   "outputs": [
    {
     "name": "stdout",
     "output_type": "stream",
     "text": [
      "<class 'pandas.core.frame.DataFrame'>\n",
      "RangeIndex: 4226 entries, 0 to 4225\n",
      "Data columns (total 16 columns):\n",
      "video_id              4226 non-null int64\n",
      "viewtimes_day         4226 non-null float64\n",
      "vertical_position     4226 non-null int64\n",
      "horizontal_poition    4226 non-null int64\n",
      "import_id             4226 non-null object\n",
      "release_year          4226 non-null int64\n",
      "genres                4226 non-null object\n",
      "imdb_votes            4226 non-null int64\n",
      "budget                4226 non-null int64\n",
      "boxoffice             4226 non-null int64\n",
      "imdb_rating           4226 non-null float64\n",
      "duration_in_mins      4226 non-null float64\n",
      "metacritic_score      4226 non-null int64\n",
      "awards                4226 non-null object\n",
      "mpaa                  4226 non-null object\n",
      "star_score            4226 non-null float64\n",
      "dtypes: float64(4), int64(8), object(4)\n",
      "memory usage: 528.4+ KB\n"
     ]
    }
   ],
   "source": [
    "tv_df.info()"
   ]
  },
  {
   "cell_type": "code",
   "execution_count": 12,
   "metadata": {},
   "outputs": [
    {
     "data": {
      "text/plain": [
       "video_id              4226\n",
       "viewtimes_day         4226\n",
       "vertical_position       37\n",
       "horizontal_poition      68\n",
       "import_id                4\n",
       "release_year            97\n",
       "genres                1165\n",
       "imdb_votes            2282\n",
       "budget                 253\n",
       "boxoffice              410\n",
       "imdb_rating             85\n",
       "duration_in_mins      4097\n",
       "metacritic_score        90\n",
       "awards                   5\n",
       "mpaa                     6\n",
       "star_score             630\n",
       "dtype: int64"
      ]
     },
     "execution_count": 12,
     "metadata": {},
     "output_type": "execute_result"
    }
   ],
   "source": [
    "tv_df.nunique()"
   ]
  },
  {
   "cell_type": "markdown",
   "metadata": {},
   "source": [
    "### 3.1 Understand Numerical Features"
   ]
  },
  {
   "cell_type": "markdown",
   "metadata": {},
   "source": [
    "Let's look at the target varaible:"
   ]
  },
  {
   "cell_type": "code",
   "execution_count": 14,
   "metadata": {},
   "outputs": [],
   "source": [
    "y = tv_df['viewtimes_day'] # load target variable"
   ]
  },
  {
   "cell_type": "code",
   "execution_count": 15,
   "metadata": {},
   "outputs": [
    {
     "data": {
      "image/png": "[encoded data removed]",
      "text/plain": [
       "<Figure size 432x288 with 1 Axes>"
      ]
     },
     "metadata": {
      "needs_background": "light"
     },
     "output_type": "display_data"
    }
   ],
   "source": [
    "plt.hist(tv_df['viewtimes_day'],bins=range(0,15000,30),color='r',label='viewtimes_day',density=True,alpha=0.5)\n",
    "plt.title('Historgrams of viewtimes_day before data processing')\n",
    "plt.legend(loc='upper right')\n",
    "plt.xlabel('viewtimes_day')\n",
    "plt.ylabel('density')\n",
    "plt.show()"
   ]
  },
  {
   "cell_type": "markdown",
   "metadata": {},
   "source": [
    "Then, let's check the correlation among numerical features:"
   ]
  },
  {
   "cell_type": "code",
   "execution_count": 17,
   "metadata": {},
   "outputs": [
    {
     "data": {
      "text/plain": [
       "<matplotlib.axes._subplots.AxesSubplot at 0x7fcf1a76c950>"
      ]
     },
     "execution_count": 17,
     "metadata": {},
     "output_type": "execute_result"
    },
    {
     "data": {
      "image/png": "[encoded data removed]",
      "text/plain": [
       "<Figure size 432x288 with 2 Axes>"
      ]
     },
     "metadata": {
      "needs_background": "light"
     },
     "output_type": "display_data"
    }
   ],
   "source": [
    "corr = tv_df[['viewtimes_day','vertical_position','horizontal_poition'\n",
    "               ,'release_year', 'imdb_votes', 'budget', 'boxoffice' ,'imdb_rating', \n",
    "               'duration_in_mins', 'metacritic_score', 'star_score']].corr()\n",
    "\n",
    "sns.heatmap(corr, cmap=\"YlGnBu\")"
   ]
  },
  {
   "cell_type": "code",
   "execution_count": 18,
   "metadata": {},
   "outputs": [
    {
     "data": {
      "text/html": [
       "<div>\n",
       "<style scoped>\n",
       "    .dataframe tbody tr th:only-of-type {\n",
       "        vertical-align: middle;\n",
       "    }\n",
       "\n",
       "    .dataframe tbody tr th {\n",
       "        vertical-align: top;\n",
       "    }\n",
       "\n",
       "    .dataframe thead th {\n",
       "        text-align: right;\n",
       "    }\n",
       "</style>\n",
       "<table border=\"1\" class=\"dataframe\">\n",
       "  <thead>\n",
       "    <tr style=\"text-align: right;\">\n",
       "      <th></th>\n",
       "      <th>viewtimes_day</th>\n",
       "      <th>vertical_position</th>\n",
       "      <th>horizontal_poition</th>\n",
       "      <th>release_year</th>\n",
       "      <th>imdb_votes</th>\n",
       "      <th>budget</th>\n",
       "      <th>boxoffice</th>\n",
       "      <th>imdb_rating</th>\n",
       "      <th>duration_in_mins</th>\n",
       "      <th>metacritic_score</th>\n",
       "      <th>star_score</th>\n",
       "    </tr>\n",
       "  </thead>\n",
       "  <tbody>\n",
       "    <tr>\n",
       "      <th>viewtimes_day</th>\n",
       "      <td>1.000</td>\n",
       "      <td>-0.148</td>\n",
       "      <td>-0.302</td>\n",
       "      <td>0.046</td>\n",
       "      <td>0.298</td>\n",
       "      <td>0.316</td>\n",
       "      <td>0.312</td>\n",
       "      <td>0.059</td>\n",
       "      <td>0.152</td>\n",
       "      <td>0.249</td>\n",
       "      <td>0.247</td>\n",
       "    </tr>\n",
       "    <tr>\n",
       "      <th>vertical_position</th>\n",
       "      <td>-0.148</td>\n",
       "      <td>1.000</td>\n",
       "      <td>-0.084</td>\n",
       "      <td>-0.069</td>\n",
       "      <td>-0.064</td>\n",
       "      <td>-0.090</td>\n",
       "      <td>-0.074</td>\n",
       "      <td>-0.116</td>\n",
       "      <td>-0.174</td>\n",
       "      <td>-0.044</td>\n",
       "      <td>-0.123</td>\n",
       "    </tr>\n",
       "    <tr>\n",
       "      <th>horizontal_poition</th>\n",
       "      <td>-0.302</td>\n",
       "      <td>-0.084</td>\n",
       "      <td>1.000</td>\n",
       "      <td>0.027</td>\n",
       "      <td>-0.221</td>\n",
       "      <td>-0.211</td>\n",
       "      <td>-0.245</td>\n",
       "      <td>-0.162</td>\n",
       "      <td>-0.102</td>\n",
       "      <td>-0.255</td>\n",
       "      <td>-0.168</td>\n",
       "    </tr>\n",
       "    <tr>\n",
       "      <th>release_year</th>\n",
       "      <td>0.046</td>\n",
       "      <td>-0.069</td>\n",
       "      <td>0.027</td>\n",
       "      <td>1.000</td>\n",
       "      <td>-0.083</td>\n",
       "      <td>-0.040</td>\n",
       "      <td>-0.128</td>\n",
       "      <td>-0.199</td>\n",
       "      <td>-0.097</td>\n",
       "      <td>-0.167</td>\n",
       "      <td>-0.198</td>\n",
       "    </tr>\n",
       "    <tr>\n",
       "      <th>imdb_votes</th>\n",
       "      <td>0.298</td>\n",
       "      <td>-0.064</td>\n",
       "      <td>-0.221</td>\n",
       "      <td>-0.083</td>\n",
       "      <td>1.000</td>\n",
       "      <td>0.273</td>\n",
       "      <td>0.531</td>\n",
       "      <td>0.163</td>\n",
       "      <td>0.156</td>\n",
       "      <td>0.322</td>\n",
       "      <td>0.225</td>\n",
       "    </tr>\n",
       "    <tr>\n",
       "      <th>budget</th>\n",
       "      <td>0.316</td>\n",
       "      <td>-0.090</td>\n",
       "      <td>-0.211</td>\n",
       "      <td>-0.040</td>\n",
       "      <td>0.273</td>\n",
       "      <td>1.000</td>\n",
       "      <td>0.505</td>\n",
       "      <td>0.106</td>\n",
       "      <td>0.251</td>\n",
       "      <td>0.315</td>\n",
       "      <td>0.322</td>\n",
       "    </tr>\n",
       "    <tr>\n",
       "      <th>boxoffice</th>\n",
       "      <td>0.312</td>\n",
       "      <td>-0.074</td>\n",
       "      <td>-0.245</td>\n",
       "      <td>-0.128</td>\n",
       "      <td>0.531</td>\n",
       "      <td>0.505</td>\n",
       "      <td>1.000</td>\n",
       "      <td>0.164</td>\n",
       "      <td>0.226</td>\n",
       "      <td>0.465</td>\n",
       "      <td>0.322</td>\n",
       "    </tr>\n",
       "    <tr>\n",
       "      <th>imdb_rating</th>\n",
       "      <td>0.059</td>\n",
       "      <td>-0.116</td>\n",
       "      <td>-0.162</td>\n",
       "      <td>-0.199</td>\n",
       "      <td>0.163</td>\n",
       "      <td>0.106</td>\n",
       "      <td>0.164</td>\n",
       "      <td>1.000</td>\n",
       "      <td>0.344</td>\n",
       "      <td>0.347</td>\n",
       "      <td>0.192</td>\n",
       "    </tr>\n",
       "    <tr>\n",
       "      <th>duration_in_mins</th>\n",
       "      <td>0.152</td>\n",
       "      <td>-0.174</td>\n",
       "      <td>-0.102</td>\n",
       "      <td>-0.097</td>\n",
       "      <td>0.156</td>\n",
       "      <td>0.251</td>\n",
       "      <td>0.226</td>\n",
       "      <td>0.344</td>\n",
       "      <td>1.000</td>\n",
       "      <td>0.327</td>\n",
       "      <td>0.309</td>\n",
       "    </tr>\n",
       "    <tr>\n",
       "      <th>metacritic_score</th>\n",
       "      <td>0.249</td>\n",
       "      <td>-0.044</td>\n",
       "      <td>-0.255</td>\n",
       "      <td>-0.167</td>\n",
       "      <td>0.322</td>\n",
       "      <td>0.315</td>\n",
       "      <td>0.465</td>\n",
       "      <td>0.347</td>\n",
       "      <td>0.327</td>\n",
       "      <td>1.000</td>\n",
       "      <td>0.452</td>\n",
       "    </tr>\n",
       "    <tr>\n",
       "      <th>star_score</th>\n",
       "      <td>0.247</td>\n",
       "      <td>-0.123</td>\n",
       "      <td>-0.168</td>\n",
       "      <td>-0.198</td>\n",
       "      <td>0.225</td>\n",
       "      <td>0.322</td>\n",
       "      <td>0.322</td>\n",
       "      <td>0.192</td>\n",
       "      <td>0.309</td>\n",
       "      <td>0.452</td>\n",
       "      <td>1.000</td>\n",
       "    </tr>\n",
       "  </tbody>\n",
       "</table>\n",
       "</div>"
      ],
      "text/plain": [
       "                    viewtimes_day  vertical_position  horizontal_poition  \\\n",
       "viewtimes_day               1.000             -0.148              -0.302   \n",
       "vertical_position          -0.148              1.000              -0.084   \n",
       "horizontal_poition         -0.302             -0.084               1.000   \n",
       "release_year                0.046             -0.069               0.027   \n",
       "imdb_votes                  0.298             -0.064              -0.221   \n",
       "budget                      0.316             -0.090              -0.211   \n",
       "boxoffice                   0.312             -0.074              -0.245   \n",
       "imdb_rating                 0.059             -0.116              -0.162   \n",
       "duration_in_mins            0.152             -0.174              -0.102   \n",
       "metacritic_score            0.249             -0.044              -0.255   \n",
       "star_score                  0.247             -0.123              -0.168   \n",
       "\n",
       "                    release_year  imdb_votes  budget  boxoffice  imdb_rating  \\\n",
       "viewtimes_day              0.046       0.298   0.316      0.312        0.059   \n",
       "vertical_position         -0.069      -0.064  -0.090     -0.074       -0.116   \n",
       "horizontal_poition         0.027      -0.221  -0.211     -0.245       -0.162   \n",
       "release_year               1.000      -0.083  -0.040     -0.128       -0.199   \n",
       "imdb_votes                -0.083       1.000   0.273      0.531        0.163   \n",
       "budget                    -0.040       0.273   1.000      0.505        0.106   \n",
       "boxoffice                 -0.128       0.531   0.505      1.000        0.164   \n",
       "imdb_rating               -0.199       0.163   0.106      0.164        1.000   \n",
       "duration_in_mins          -0.097       0.156   0.251      0.226        0.344   \n",
       "metacritic_score          -0.167       0.322   0.315      0.465        0.347   \n",
       "star_score                -0.198       0.225   0.322      0.322        0.192   \n",
       "\n",
       "                    duration_in_mins  metacritic_score  star_score  \n",
       "viewtimes_day                  0.152             0.249       0.247  \n",
       "vertical_position             -0.174            -0.044      -0.123  \n",
       "horizontal_poition            -0.102            -0.255      -0.168  \n",
       "release_year                  -0.097            -0.167      -0.198  \n",
       "imdb_votes                     0.156             0.322       0.225  \n",
       "budget                         0.251             0.315       0.322  \n",
       "boxoffice                      0.226             0.465       0.322  \n",
       "imdb_rating                    0.344             0.347       0.192  \n",
       "duration_in_mins               1.000             0.327       0.309  \n",
       "metacritic_score               0.327             1.000       0.452  \n",
       "star_score                     0.309             0.452       1.000  "
      ]
     },
     "execution_count": 18,
     "metadata": {},
     "output_type": "execute_result"
    }
   ],
   "source": [
    "corr"
   ]
  },
  {
   "cell_type": "markdown",
   "metadata": {},
   "source": [
    "### 3.2 Understand Categorical Features "
   ]
  },
  {
   "cell_type": "markdown",
   "metadata": {},
   "source": [
    "Distribution of standard categorical features"
   ]
  },
  {
   "cell_type": "code",
   "execution_count": 21,
   "metadata": {},
   "outputs": [
    {
     "data": {
      "image/png": "[encoded data removed]",
      "text/plain": [
       "<Figure size 432x288 with 1 Axes>"
      ]
     },
     "metadata": {
      "needs_background": "light"
     },
     "output_type": "display_data"
    },
    {
     "name": "stdout",
     "output_type": "stream",
     "text": [
      "other        2963\n",
      "lionsgate     677\n",
      "mgm           445\n",
      "paramount     141\n",
      "Name: import_id, dtype: int64\n"
     ]
    },
    {
     "data": {
      "image/png": "[encoded data removed]",
      "text/plain": [
       "<Figure size 432x288 with 1 Axes>"
      ]
     },
     "metadata": {
      "needs_background": "light"
     },
     "output_type": "display_data"
    },
    {
     "name": "stdout",
     "output_type": "stream",
     "text": [
      "NotRated    2158\n",
      "R           1158\n",
      "PG-13        426\n",
      "PG           353\n",
      "G            125\n",
      "NC-17          6\n",
      "Name: mpaa, dtype: int64\n"
     ]
    },
    {
     "data": {
      "image/png": "[encoded data removed]",
      "text/plain": [
       "<Figure size 432x288 with 1 Axes>"
      ]
     },
     "metadata": {
      "needs_background": "light"
     },
     "output_type": "display_data"
    },
    {
     "name": "stdout",
     "output_type": "stream",
     "text": [
      "no award        2569\n",
      "other award     1453\n",
      "Oscar            141\n",
      "Golden Globe      44\n",
      "BAFTA             19\n",
      "Name: awards, dtype: int64\n"
     ]
    }
   ],
   "source": [
    "sns.stripplot(x='import_id', y='viewtimes_day', data=tv_df,jitter=True)\n",
    "plt.show()\n",
    "print(tv_df['import_id'].value_counts())\n",
    "\n",
    "sns.stripplot(x='mpaa', y='viewtimes_day', data=tv_df,jitter=True)\n",
    "plt.show()\n",
    "print(tv_df['mpaa'].value_counts())\n",
    "\n",
    "sns.stripplot(x='awards', y='viewtimes_day', data=tv_df, jitter=True)\n",
    "plt.show()\n",
    "print(tv_df['awards'].value_counts())"
   ]
  },
  {
   "cell_type": "markdown",
   "metadata": {},
   "source": [
    "After very basic Exploratory Data Analysis, we have to do some data cleaning and data preprocessing. We need three steps to finish this: \n",
    "\n",
    "1. Encoding the categorical feature. \n",
    "2. Imputing the missing value for both numeric and categorical feature.\n",
    "3. Scaling out features which can be better for our models' performance."
   ]
  },
  {
   "cell_type": "markdown",
   "metadata": {},
   "source": [
    "Some videos belongs to more than one genre, distribution of splited genres would help us to emphasize the effect of each individual genre."
   ]
  },
  {
   "cell_type": "code",
   "execution_count": 22,
   "metadata": {},
   "outputs": [
    {
     "name": "stdout",
     "output_type": "stream",
     "text": [
      "Action                    739\n",
      "Adult                       3\n",
      "Adventure                 363\n",
      "Animation                 129\n",
      "Anime                      11\n",
      "Comedy                   1184\n",
      "Crime                     437\n",
      "Documentary               671\n",
      "Drama                    1677\n",
      "Fantasy                   243\n",
      "Foreign/International      64\n",
      "Holiday                     1\n",
      "Horror                    762\n",
      "Independent               393\n",
      "Kids & Family             280\n",
      "LGBT                        2\n",
      "Lifestyle                   7\n",
      "Music                     171\n",
      "Musicals                   68\n",
      "Mystery                   375\n",
      "Reality                     9\n",
      "Romance                   591\n",
      "Sci-Fi                    363\n",
      "Sport                      77\n",
      "Thriller                  879\n",
      "War                       102\n",
      "Western                   102\n",
      "dtype: int64\n"
     ]
    },
    {
     "data": {
      "text/plain": [
       "<matplotlib.axes._subplots.AxesSubplot at 0x7fcf1a511790>"
      ]
     },
     "execution_count": 22,
     "metadata": {},
     "output_type": "execute_result"
    },
    {
     "data": {
      "image/png": "[encoded data removed]",
      "text/plain": [
       "<Figure size 432x288 with 1 Axes>"
      ]
     },
     "metadata": {
      "needs_background": "light"
     },
     "output_type": "display_data"
    }
   ],
   "source": [
    "# generes explore, split the genre of each video\n",
    "gen_split = tv_df['genres'].str.get_dummies(sep=',').sum()\n",
    "print(gen_split)\n",
    "\n",
    "gen_split.sort_values(ascending=False).plot.bar()"
   ]
  },
  {
   "cell_type": "markdown",
   "metadata": {},
   "source": [
    "The release year of video varies through a wide range. Considering the popularity of a video usually decays over time, the release_year should be bucketed based on the release_year range."
   ]
  },
  {
   "cell_type": "code",
   "execution_count": 23,
   "metadata": {},
   "outputs": [
    {
     "name": "stderr",
     "output_type": "stream",
     "text": [
      "/opt/conda/envs/data3/lib/python3.7/site-packages/ipykernel_launcher.py:1: MatplotlibDeprecationWarning: \n",
      "The 'normed' kwarg was deprecated in Matplotlib 2.1 and will be removed in 3.1. Use 'density' instead.\n",
      "  \"\"\"Entry point for launching an IPython kernel.\n"
     ]
    },
    {
     "data": {
      "image/png": "[encoded data removed]",
      "text/plain": [
       "<Figure size 432x288 with 1 Axes>"
      ]
     },
     "metadata": {
      "needs_background": "light"
     },
     "output_type": "display_data"
    }
   ],
   "source": [
    "plt.hist(tv_df['release_year'].values, bins = range(1910, 2017, 1), alpha = 0.5, color='r', label = 'release_year', normed = True)\n",
    "plt.legend(loc ='upper left')\n",
    "plt.title('Historgrams of release_year before data processing')\n",
    "plt.xlabel('release_year')\n",
    "plt.ylabel('density')\n",
    "plt.show()"
   ]
  },
  {
   "cell_type": "markdown",
   "metadata": {},
   "source": [
    "## 4. Feature Preprocessing"
   ]
  },
  {
   "cell_type": "markdown",
   "metadata": {},
   "source": [
    "### 4.1 Categorical Features "
   ]
  },
  {
   "cell_type": "markdown",
   "metadata": {},
   "source": [
    "There are 5 categorical features: import_id, mpaa, awards, genres, and release_year. There is no missing data in them. They can be converted into dummy/indicators.\n",
    "\n",
    "The first 3 have relatively small sub-types, they can be easily converted to dummies.\n",
    "\n",
    "The 'genres' have 27 different sub-types, 6 of them are rarely observed (refer to previous section). It's reasonable to group these 6 into 1. Note: a video may have more than one genre, in the feature preprocessing, all genres are handled individually.\n",
    "\n",
    "The release_year is bined into 10 buckets based on the year range between 1917 and 2017."
   ]
  },
  {
   "cell_type": "code",
   "execution_count": 25,
   "metadata": {},
   "outputs": [],
   "source": [
    "# Convert 3 Categorical variables into dummy variables\n",
    "d_import_id = pd.get_dummies(tv_df['import_id']).astype(np.int64)\n",
    "d_mpaa = pd.get_dummies(tv_df['mpaa']).astype(np.int64)\n",
    "d_awards = pd.get_dummies(tv_df['awards']).astype(np.int64)"
   ]
  },
  {
   "cell_type": "code",
   "execution_count": 27,
   "metadata": {},
   "outputs": [],
   "source": [
    "# Convert 'genres' into dummy variables\n",
    "d_genres=tv_df['genres'].str.get_dummies(sep=',').astype(np.int64)\n",
    "d_genres['Misc_genres']=d_genres['Anime']|d_genres['Reality']|d_genres['Lifestyle']|d_genres['Adult']|d_genres['LGBT']|d_genres['Holiday']\n",
    "d_genres.drop(['Anime', 'Reality','Lifestyle', 'Adult','LGBT','Holiday'], inplace=True, axis=1)"
   ]
  },
  {
   "cell_type": "code",
   "execution_count": 30,
   "metadata": {},
   "outputs": [],
   "source": [
    "# bin release_year and convert into dummies\n",
    "bin_year = [1916, 1974, 1991, 2001, 2006, 2008, 2010, 2012, 2013, 2014, 2017]\n",
    "year_range = ['1916-1974', '1974-1991', '1991-2001', '2001-2006','2006-2008','2008-2010','2010-2012','2012-2013',\n",
    "              '2013-2014','2014-2017']\n",
    "year_bin = pd.cut(tv_df['release_year'], bin_year, labels=year_range)\n",
    "d_year = pd.get_dummies(year_bin).astype(np.int64)"
   ]
  },
  {
   "cell_type": "code",
   "execution_count": 31,
   "metadata": {},
   "outputs": [
    {
     "name": "stdout",
     "output_type": "stream",
     "text": [
      "   video_id  viewtimes_day  vertical_position  horizontal_poition  imdb_votes  \\\n",
      "0    385504     307127.606                  1                   3       69614   \n",
      "1    300175     270338.426                  1                   3       46705   \n",
      "2    361899     256165.867                  1                   3      197596   \n",
      "3    308314     196622.721                  3                   4      356339   \n",
      "4    307201     159841.652                  1                   3       46720   \n",
      "\n",
      "     budget  boxoffice  imdb_rating  duration_in_mins  metacritic_score  \\\n",
      "0  15000000   42930462        6.500           112.301                51   \n",
      "1  15000000    3301046        6.500            94.983                41   \n",
      "2  26000000   37397291        7.300           115.764                58   \n",
      "3  15000000   15700000        7.600           130.704                94   \n",
      "4  27220000    8551228        6.400           105.546                37   \n",
      "\n",
      "   star_score  lionsgate  mgm  other  paramount  G  NC-17  NotRated  PG  \\\n",
      "0       1.710          1    0      0          0  0      0         0   0   \n",
      "1       3.250          1    0      0          0  0      0         0   0   \n",
      "2       2.647          0    0      1          0  0      0         0   0   \n",
      "3       1.667          1    0      0          0  0      0         0   0   \n",
      "4       3.067          1    0      0          0  0      0         0   0   \n",
      "\n",
      "   PG-13  R  BAFTA  Golden Globe  Oscar  no award  other award  Action  \\\n",
      "0      1  0      0             0      0         0            1       1   \n",
      "1      0  1      0             0      0         1            0       0   \n",
      "2      0  1      0             0      0         0            1       0   \n",
      "3      0  1      0             0      1         0            0       1   \n",
      "4      0  1      0             0      0         0            1       0   \n",
      "\n",
      "   Adventure  Animation  Comedy  Crime  Documentary  Drama  Fantasy  \\\n",
      "0          0          0       0      0            0      1        0   \n",
      "1          0          0       1      1            0      0        0   \n",
      "2          0          0       0      1            0      1        0   \n",
      "3          0          0       0      0            1      1        0   \n",
      "4          0          0       0      1            1      0        0   \n",
      "\n",
      "   Foreign/International  Horror  Independent  Kids & Family  Music  Musicals  \\\n",
      "0                      0       0            0              0      0         0   \n",
      "1                      0       0            0              0      0         0   \n",
      "2                      0       0            0              0      0         0   \n",
      "3                      0       0            0              0      0         0   \n",
      "4                      0       0            0              0      0         0   \n",
      "\n",
      "   Mystery  Romance  Sci-Fi  Sport  Thriller  War  Western  Misc_genres  \\\n",
      "0        0        0       0      0         1    0        0            0   \n",
      "1        0        0       0      0         1    0        0            0   \n",
      "2        0        0       0      0         0    0        0            0   \n",
      "3        1        0       0      0         1    1        0            0   \n",
      "4        1        0       0      0         1    0        0            0   \n",
      "\n",
      "   1916-1974  1974-1991  1991-2001  2001-2006  2006-2008  2008-2010  \\\n",
      "0          0          0          0          0          0          0   \n",
      "1          0          0          0          0          0          0   \n",
      "2          0          0          0          0          0          0   \n",
      "3          0          0          0          0          1          0   \n",
      "4          0          0          0          0          0          0   \n",
      "\n",
      "   2010-2012  2012-2013  2013-2014  2014-2017  \n",
      "0          0          1          0          0  \n",
      "1          0          1          0          0  \n",
      "2          1          0          0          0  \n",
      "3          0          0          0          0  \n",
      "4          0          1          0          0  \n"
     ]
    }
   ],
   "source": [
    "# new dataframe, drop the previous categorical features, add new dummy variables, check for null\n",
    "\n",
    "temp_tv=tv_df.drop(['import_id', 'mpaa','awards','genres', 'release_year'], axis=1)\n",
    "\n",
    "newTV = pd.concat([temp_tv, d_import_id, d_mpaa, d_awards, d_genres, d_year], axis=1)\n",
    "print(newTV.head())"
   ]
  },
  {
   "cell_type": "markdown",
   "metadata": {},
   "source": [
    "### 4.2 Missing Data "
   ]
  },
  {
   "cell_type": "markdown",
   "metadata": {},
   "source": [
    "Among the 10 numerical features (not include video_id), 4 features have over 25% of missing values (shown as '0', which is not possible in reality): budget, boxoffice, metacritic_score, star_score. 2 features have less than 10% of missing data: imdb_votes, imdb_rating.\n",
    "\n",
    "There are 3242 samples have at least one missing data.\n",
    "\n",
    "Now we have to deal with the missing data. According to the data info, there is no Null value in our dataset, but we have to be catious, because zero value can be a very good candidate for missing data. So we have to check the ratio of zero value in our numerical features. "
   ]
  },
  {
   "cell_type": "code",
   "execution_count": 34,
   "metadata": {},
   "outputs": [
    {
     "name": "stdout",
     "output_type": "stream",
     "text": [
      "<class 'pandas.core.frame.DataFrame'>\n",
      "RangeIndex: 4226 entries, 0 to 4225\n",
      "Data columns (total 58 columns):\n",
      "video_id                 4226 non-null int64\n",
      "viewtimes_day            4226 non-null float64\n",
      "vertical_position        4226 non-null int64\n",
      "horizontal_poition       4226 non-null int64\n",
      "imdb_votes               3882 non-null float64\n",
      "budget                   1772 non-null float64\n",
      "boxoffice                1032 non-null float64\n",
      "imdb_rating              3882 non-null float64\n",
      "duration_in_mins         4226 non-null float64\n",
      "metacritic_score         1214 non-null float64\n",
      "star_score               2380 non-null float64\n",
      "lionsgate                4226 non-null int64\n",
      "mgm                      4226 non-null int64\n",
      "other                    4226 non-null int64\n",
      "paramount                4226 non-null int64\n",
      "G                        4226 non-null int64\n",
      "NC-17                    4226 non-null int64\n",
      "NotRated                 4226 non-null int64\n",
      "PG                       4226 non-null int64\n",
      "PG-13                    4226 non-null int64\n",
      "R                        4226 non-null int64\n",
      "BAFTA                    4226 non-null int64\n",
      "Golden Globe             4226 non-null int64\n",
      "Oscar                    4226 non-null int64\n",
      "no award                 4226 non-null int64\n",
      "other award              4226 non-null int64\n",
      "Action                   4226 non-null int64\n",
      "Adventure                4226 non-null int64\n",
      "Animation                4226 non-null int64\n",
      "Comedy                   4226 non-null int64\n",
      "Crime                    4226 non-null int64\n",
      "Documentary              4226 non-null int64\n",
      "Drama                    4226 non-null int64\n",
      "Fantasy                  4226 non-null int64\n",
      "Foreign/International    4226 non-null int64\n",
      "Horror                   4226 non-null int64\n",
      "Independent              4226 non-null int64\n",
      "Kids & Family            4226 non-null int64\n",
      "Music                    4226 non-null int64\n",
      "Musicals                 4226 non-null int64\n",
      "Mystery                  4226 non-null int64\n",
      "Romance                  4226 non-null int64\n",
      "Sci-Fi                   4226 non-null int64\n",
      "Sport                    4226 non-null int64\n",
      "Thriller                 4226 non-null int64\n",
      "War                      4226 non-null int64\n",
      "Western                  4226 non-null int64\n",
      "Misc_genres              4226 non-null int64\n",
      "1916-1974                4226 non-null int64\n",
      "1974-1991                4226 non-null int64\n",
      "1991-2001                4226 non-null int64\n",
      "2001-2006                4226 non-null int64\n",
      "2006-2008                4226 non-null int64\n",
      "2008-2010                4226 non-null int64\n",
      "2010-2012                4226 non-null int64\n",
      "2012-2013                4226 non-null int64\n",
      "2013-2014                4226 non-null int64\n",
      "2014-2017                4226 non-null int64\n",
      "dtypes: float64(8), int64(50)\n",
      "memory usage: 1.9 MB\n",
      "None\n",
      "video_id                0.000\n",
      "viewtimes_day           0.000\n",
      "vertical_position       0.000\n",
      "horizontal_poition      0.000\n",
      "imdb_votes              0.081\n",
      "budget                  0.581\n",
      "boxoffice               0.756\n",
      "imdb_rating             0.081\n",
      "duration_in_mins        0.000\n",
      "metacritic_score        0.713\n",
      "star_score              0.437\n",
      "lionsgate               0.000\n",
      "mgm                     0.000\n",
      "other                   0.000\n",
      "paramount               0.000\n",
      "G                       0.000\n",
      "NC-17                   0.000\n",
      "NotRated                0.000\n",
      "PG                      0.000\n",
      "PG-13                   0.000\n",
      "R                       0.000\n",
      "BAFTA                   0.000\n",
      "Golden Globe            0.000\n",
      "Oscar                   0.000\n",
      "no award                0.000\n",
      "other award             0.000\n",
      "Action                  0.000\n",
      "Adventure               0.000\n",
      "Animation               0.000\n",
      "Comedy                  0.000\n",
      "Crime                   0.000\n",
      "Documentary             0.000\n",
      "Drama                   0.000\n",
      "Fantasy                 0.000\n",
      "Foreign/International   0.000\n",
      "Horror                  0.000\n",
      "Independent             0.000\n",
      "Kids & Family           0.000\n",
      "Music                   0.000\n",
      "Musicals                0.000\n",
      "Mystery                 0.000\n",
      "Romance                 0.000\n",
      "Sci-Fi                  0.000\n",
      "Sport                   0.000\n",
      "Thriller                0.000\n",
      "War                     0.000\n",
      "Western                 0.000\n",
      "Misc_genres             0.000\n",
      "1916-1974               0.000\n",
      "1974-1991               0.000\n",
      "1991-2001               0.000\n",
      "2001-2006               0.000\n",
      "2006-2008               0.000\n",
      "2008-2010               0.000\n",
      "2010-2012               0.000\n",
      "2012-2013               0.000\n",
      "2013-2014               0.000\n",
      "2014-2017               0.000\n",
      "dtype: float64\n"
     ]
    }
   ],
   "source": [
    "newTV[['budget','boxoffice','metacritic_score', 'star_score','imdb_votes', 'imdb_rating']] = newTV[['budget','boxoffice','metacritic_score', 'star_score','imdb_votes', 'imdb_rating']].replace(0, np.nan)\n",
    "print(newTV.info())\n",
    "print(newTV.isnull().sum()/newTV.shape[0])"
   ]
  },
  {
   "cell_type": "markdown",
   "metadata": {},
   "source": [
    "Filling missing data with mean value"
   ]
  },
  {
   "cell_type": "code",
   "execution_count": 35,
   "metadata": {},
   "outputs": [
    {
     "name": "stdout",
     "output_type": "stream",
     "text": [
      "<class 'pandas.core.frame.DataFrame'>\n",
      "RangeIndex: 4226 entries, 0 to 4225\n",
      "Data columns (total 58 columns):\n",
      "video_id                 4226 non-null int64\n",
      "viewtimes_day            4226 non-null float64\n",
      "vertical_position        4226 non-null int64\n",
      "horizontal_poition       4226 non-null int64\n",
      "imdb_votes               4226 non-null float64\n",
      "budget                   4226 non-null float64\n",
      "boxoffice                4226 non-null float64\n",
      "imdb_rating              4226 non-null float64\n",
      "duration_in_mins         4226 non-null float64\n",
      "metacritic_score         4226 non-null float64\n",
      "star_score               4226 non-null float64\n",
      "lionsgate                4226 non-null int64\n",
      "mgm                      4226 non-null int64\n",
      "other                    4226 non-null int64\n",
      "paramount                4226 non-null int64\n",
      "G                        4226 non-null int64\n",
      "NC-17                    4226 non-null int64\n",
      "NotRated                 4226 non-null int64\n",
      "PG                       4226 non-null int64\n",
      "PG-13                    4226 non-null int64\n",
      "R                        4226 non-null int64\n",
      "BAFTA                    4226 non-null int64\n",
      "Golden Globe             4226 non-null int64\n",
      "Oscar                    4226 non-null int64\n",
      "no award                 4226 non-null int64\n",
      "other award              4226 non-null int64\n",
      "Action                   4226 non-null int64\n",
      "Adventure                4226 non-null int64\n",
      "Animation                4226 non-null int64\n",
      "Comedy                   4226 non-null int64\n",
      "Crime                    4226 non-null int64\n",
      "Documentary              4226 non-null int64\n",
      "Drama                    4226 non-null int64\n",
      "Fantasy                  4226 non-null int64\n",
      "Foreign/International    4226 non-null int64\n",
      "Horror                   4226 non-null int64\n",
      "Independent              4226 non-null int64\n",
      "Kids & Family            4226 non-null int64\n",
      "Music                    4226 non-null int64\n",
      "Musicals                 4226 non-null int64\n",
      "Mystery                  4226 non-null int64\n",
      "Romance                  4226 non-null int64\n",
      "Sci-Fi                   4226 non-null int64\n",
      "Sport                    4226 non-null int64\n",
      "Thriller                 4226 non-null int64\n",
      "War                      4226 non-null int64\n",
      "Western                  4226 non-null int64\n",
      "Misc_genres              4226 non-null int64\n",
      "1916-1974                4226 non-null int64\n",
      "1974-1991                4226 non-null int64\n",
      "1991-2001                4226 non-null int64\n",
      "2001-2006                4226 non-null int64\n",
      "2006-2008                4226 non-null int64\n",
      "2008-2010                4226 non-null int64\n",
      "2010-2012                4226 non-null int64\n",
      "2012-2013                4226 non-null int64\n",
      "2013-2014                4226 non-null int64\n",
      "2014-2017                4226 non-null int64\n",
      "dtypes: float64(8), int64(50)\n",
      "memory usage: 1.9 MB\n",
      "None\n"
     ]
    }
   ],
   "source": [
    "newTV1=newTV.copy()\n",
    "newTV1['boxoffice']=newTV1['boxoffice'].fillna(newTV1['boxoffice'].mean())\n",
    "newTV1['metacritic_score']=newTV1['metacritic_score'].fillna(newTV1['metacritic_score'].mean())\n",
    "newTV1['star_score']=newTV1['star_score'].fillna(newTV1['star_score'].mean())\n",
    "newTV1['imdb_votes']=newTV1['imdb_votes'].fillna(newTV1['imdb_votes'].mean())\n",
    "newTV1['imdb_rating']=newTV1['imdb_rating'].fillna(newTV1['imdb_rating'].mean())\n",
    "newTV1['budget']=newTV1['budget'].fillna(newTV1['budget'].mean())\n",
    "print(newTV1.info())"
   ]
  },
  {
   "cell_type": "markdown",
   "metadata": {},
   "source": [
    "### 4.3 Feature Scaling"
   ]
  },
  {
   "cell_type": "markdown",
   "metadata": {},
   "source": [
    "Here we will use standardscaler to do the feature scaling"
   ]
  },
  {
   "cell_type": "code",
   "execution_count": 36,
   "metadata": {},
   "outputs": [
    {
     "data": {
      "text/html": [
       "<div>\n",
       "<style scoped>\n",
       "    .dataframe tbody tr th:only-of-type {\n",
       "        vertical-align: middle;\n",
       "    }\n",
       "\n",
       "    .dataframe tbody tr th {\n",
       "        vertical-align: top;\n",
       "    }\n",
       "\n",
       "    .dataframe thead th {\n",
       "        text-align: right;\n",
       "    }\n",
       "</style>\n",
       "<table border=\"1\" class=\"dataframe\">\n",
       "  <thead>\n",
       "    <tr style=\"text-align: right;\">\n",
       "      <th></th>\n",
       "      <th>video_id</th>\n",
       "      <th>viewtimes_day</th>\n",
       "      <th>vertical_position</th>\n",
       "      <th>horizontal_poition</th>\n",
       "      <th>imdb_votes</th>\n",
       "      <th>budget</th>\n",
       "      <th>boxoffice</th>\n",
       "      <th>imdb_rating</th>\n",
       "      <th>duration_in_mins</th>\n",
       "      <th>metacritic_score</th>\n",
       "      <th>star_score</th>\n",
       "      <th>lionsgate</th>\n",
       "      <th>mgm</th>\n",
       "      <th>other</th>\n",
       "      <th>paramount</th>\n",
       "      <th>G</th>\n",
       "      <th>NC-17</th>\n",
       "      <th>NotRated</th>\n",
       "      <th>PG</th>\n",
       "      <th>PG-13</th>\n",
       "      <th>R</th>\n",
       "      <th>BAFTA</th>\n",
       "      <th>Golden Globe</th>\n",
       "      <th>Oscar</th>\n",
       "      <th>no award</th>\n",
       "      <th>other award</th>\n",
       "      <th>Action</th>\n",
       "      <th>Adventure</th>\n",
       "      <th>Animation</th>\n",
       "      <th>Comedy</th>\n",
       "      <th>Crime</th>\n",
       "      <th>Documentary</th>\n",
       "      <th>Drama</th>\n",
       "      <th>Fantasy</th>\n",
       "      <th>Foreign/International</th>\n",
       "      <th>Horror</th>\n",
       "      <th>Independent</th>\n",
       "      <th>Kids &amp; Family</th>\n",
       "      <th>Music</th>\n",
       "      <th>Musicals</th>\n",
       "      <th>Mystery</th>\n",
       "      <th>Romance</th>\n",
       "      <th>Sci-Fi</th>\n",
       "      <th>Sport</th>\n",
       "      <th>Thriller</th>\n",
       "      <th>War</th>\n",
       "      <th>Western</th>\n",
       "      <th>Misc_genres</th>\n",
       "      <th>1916-1974</th>\n",
       "      <th>1974-1991</th>\n",
       "      <th>1991-2001</th>\n",
       "      <th>2001-2006</th>\n",
       "      <th>2006-2008</th>\n",
       "      <th>2008-2010</th>\n",
       "      <th>2010-2012</th>\n",
       "      <th>2012-2013</th>\n",
       "      <th>2013-2014</th>\n",
       "      <th>2014-2017</th>\n",
       "    </tr>\n",
       "  </thead>\n",
       "  <tbody>\n",
       "    <tr>\n",
       "      <th>0</th>\n",
       "      <td>385504</td>\n",
       "      <td>307127.606</td>\n",
       "      <td>-1.106</td>\n",
       "      <td>-2.116</td>\n",
       "      <td>1.984</td>\n",
       "      <td>1.470</td>\n",
       "      <td>4.696</td>\n",
       "      <td>0.542</td>\n",
       "      <td>1.079</td>\n",
       "      <td>-0.630</td>\n",
       "      <td>0.033</td>\n",
       "      <td>1</td>\n",
       "      <td>0</td>\n",
       "      <td>0</td>\n",
       "      <td>0</td>\n",
       "      <td>0</td>\n",
       "      <td>0</td>\n",
       "      <td>0</td>\n",
       "      <td>0</td>\n",
       "      <td>1</td>\n",
       "      <td>0</td>\n",
       "      <td>0</td>\n",
       "      <td>0</td>\n",
       "      <td>0</td>\n",
       "      <td>0</td>\n",
       "      <td>1</td>\n",
       "      <td>1</td>\n",
       "      <td>0</td>\n",
       "      <td>0</td>\n",
       "      <td>0</td>\n",
       "      <td>0</td>\n",
       "      <td>0</td>\n",
       "      <td>1</td>\n",
       "      <td>0</td>\n",
       "      <td>0</td>\n",
       "      <td>0</td>\n",
       "      <td>0</td>\n",
       "      <td>0</td>\n",
       "      <td>0</td>\n",
       "      <td>0</td>\n",
       "      <td>0</td>\n",
       "      <td>0</td>\n",
       "      <td>0</td>\n",
       "      <td>0</td>\n",
       "      <td>1</td>\n",
       "      <td>0</td>\n",
       "      <td>0</td>\n",
       "      <td>0</td>\n",
       "      <td>0</td>\n",
       "      <td>0</td>\n",
       "      <td>0</td>\n",
       "      <td>0</td>\n",
       "      <td>0</td>\n",
       "      <td>0</td>\n",
       "      <td>0</td>\n",
       "      <td>1</td>\n",
       "      <td>0</td>\n",
       "      <td>0</td>\n",
       "    </tr>\n",
       "    <tr>\n",
       "      <th>1</th>\n",
       "      <td>300175</td>\n",
       "      <td>270338.426</td>\n",
       "      <td>-1.106</td>\n",
       "      <td>-2.116</td>\n",
       "      <td>1.258</td>\n",
       "      <td>1.470</td>\n",
       "      <td>-1.022</td>\n",
       "      <td>0.542</td>\n",
       "      <td>0.257</td>\n",
       "      <td>-1.997</td>\n",
       "      <td>3.434</td>\n",
       "      <td>1</td>\n",
       "      <td>0</td>\n",
       "      <td>0</td>\n",
       "      <td>0</td>\n",
       "      <td>0</td>\n",
       "      <td>0</td>\n",
       "      <td>0</td>\n",
       "      <td>0</td>\n",
       "      <td>0</td>\n",
       "      <td>1</td>\n",
       "      <td>0</td>\n",
       "      <td>0</td>\n",
       "      <td>0</td>\n",
       "      <td>1</td>\n",
       "      <td>0</td>\n",
       "      <td>0</td>\n",
       "      <td>0</td>\n",
       "      <td>0</td>\n",
       "      <td>1</td>\n",
       "      <td>1</td>\n",
       "      <td>0</td>\n",
       "      <td>0</td>\n",
       "      <td>0</td>\n",
       "      <td>0</td>\n",
       "      <td>0</td>\n",
       "      <td>0</td>\n",
       "      <td>0</td>\n",
       "      <td>0</td>\n",
       "      <td>0</td>\n",
       "      <td>0</td>\n",
       "      <td>0</td>\n",
       "      <td>0</td>\n",
       "      <td>0</td>\n",
       "      <td>1</td>\n",
       "      <td>0</td>\n",
       "      <td>0</td>\n",
       "      <td>0</td>\n",
       "      <td>0</td>\n",
       "      <td>0</td>\n",
       "      <td>0</td>\n",
       "      <td>0</td>\n",
       "      <td>0</td>\n",
       "      <td>0</td>\n",
       "      <td>0</td>\n",
       "      <td>1</td>\n",
       "      <td>0</td>\n",
       "      <td>0</td>\n",
       "    </tr>\n",
       "    <tr>\n",
       "      <th>2</th>\n",
       "      <td>361899</td>\n",
       "      <td>256165.867</td>\n",
       "      <td>-1.106</td>\n",
       "      <td>-2.116</td>\n",
       "      <td>6.043</td>\n",
       "      <td>3.108</td>\n",
       "      <td>3.898</td>\n",
       "      <td>1.100</td>\n",
       "      <td>1.243</td>\n",
       "      <td>0.327</td>\n",
       "      <td>2.102</td>\n",
       "      <td>0</td>\n",
       "      <td>0</td>\n",
       "      <td>1</td>\n",
       "      <td>0</td>\n",
       "      <td>0</td>\n",
       "      <td>0</td>\n",
       "      <td>0</td>\n",
       "      <td>0</td>\n",
       "      <td>0</td>\n",
       "      <td>1</td>\n",
       "      <td>0</td>\n",
       "      <td>0</td>\n",
       "      <td>0</td>\n",
       "      <td>0</td>\n",
       "      <td>1</td>\n",
       "      <td>0</td>\n",
       "      <td>0</td>\n",
       "      <td>0</td>\n",
       "      <td>0</td>\n",
       "      <td>1</td>\n",
       "      <td>0</td>\n",
       "      <td>1</td>\n",
       "      <td>0</td>\n",
       "      <td>0</td>\n",
       "      <td>0</td>\n",
       "      <td>0</td>\n",
       "      <td>0</td>\n",
       "      <td>0</td>\n",
       "      <td>0</td>\n",
       "      <td>0</td>\n",
       "      <td>0</td>\n",
       "      <td>0</td>\n",
       "      <td>0</td>\n",
       "      <td>0</td>\n",
       "      <td>0</td>\n",
       "      <td>0</td>\n",
       "      <td>0</td>\n",
       "      <td>0</td>\n",
       "      <td>0</td>\n",
       "      <td>0</td>\n",
       "      <td>0</td>\n",
       "      <td>0</td>\n",
       "      <td>0</td>\n",
       "      <td>1</td>\n",
       "      <td>0</td>\n",
       "      <td>0</td>\n",
       "      <td>0</td>\n",
       "    </tr>\n",
       "    <tr>\n",
       "      <th>3</th>\n",
       "      <td>308314</td>\n",
       "      <td>196622.721</td>\n",
       "      <td>-0.780</td>\n",
       "      <td>-2.032</td>\n",
       "      <td>11.077</td>\n",
       "      <td>1.470</td>\n",
       "      <td>0.767</td>\n",
       "      <td>1.309</td>\n",
       "      <td>1.952</td>\n",
       "      <td>5.250</td>\n",
       "      <td>-0.063</td>\n",
       "      <td>1</td>\n",
       "      <td>0</td>\n",
       "      <td>0</td>\n",
       "      <td>0</td>\n",
       "      <td>0</td>\n",
       "      <td>0</td>\n",
       "      <td>0</td>\n",
       "      <td>0</td>\n",
       "      <td>0</td>\n",
       "      <td>1</td>\n",
       "      <td>0</td>\n",
       "      <td>0</td>\n",
       "      <td>1</td>\n",
       "      <td>0</td>\n",
       "      <td>0</td>\n",
       "      <td>1</td>\n",
       "      <td>0</td>\n",
       "      <td>0</td>\n",
       "      <td>0</td>\n",
       "      <td>0</td>\n",
       "      <td>1</td>\n",
       "      <td>1</td>\n",
       "      <td>0</td>\n",
       "      <td>0</td>\n",
       "      <td>0</td>\n",
       "      <td>0</td>\n",
       "      <td>0</td>\n",
       "      <td>0</td>\n",
       "      <td>0</td>\n",
       "      <td>1</td>\n",
       "      <td>0</td>\n",
       "      <td>0</td>\n",
       "      <td>0</td>\n",
       "      <td>1</td>\n",
       "      <td>1</td>\n",
       "      <td>0</td>\n",
       "      <td>0</td>\n",
       "      <td>0</td>\n",
       "      <td>0</td>\n",
       "      <td>0</td>\n",
       "      <td>0</td>\n",
       "      <td>1</td>\n",
       "      <td>0</td>\n",
       "      <td>0</td>\n",
       "      <td>0</td>\n",
       "      <td>0</td>\n",
       "      <td>0</td>\n",
       "    </tr>\n",
       "    <tr>\n",
       "      <th>4</th>\n",
       "      <td>307201</td>\n",
       "      <td>159841.652</td>\n",
       "      <td>-1.106</td>\n",
       "      <td>-2.116</td>\n",
       "      <td>1.258</td>\n",
       "      <td>3.290</td>\n",
       "      <td>-0.265</td>\n",
       "      <td>0.472</td>\n",
       "      <td>0.758</td>\n",
       "      <td>-2.544</td>\n",
       "      <td>3.029</td>\n",
       "      <td>1</td>\n",
       "      <td>0</td>\n",
       "      <td>0</td>\n",
       "      <td>0</td>\n",
       "      <td>0</td>\n",
       "      <td>0</td>\n",
       "      <td>0</td>\n",
       "      <td>0</td>\n",
       "      <td>0</td>\n",
       "      <td>1</td>\n",
       "      <td>0</td>\n",
       "      <td>0</td>\n",
       "      <td>0</td>\n",
       "      <td>0</td>\n",
       "      <td>1</td>\n",
       "      <td>0</td>\n",
       "      <td>0</td>\n",
       "      <td>0</td>\n",
       "      <td>0</td>\n",
       "      <td>1</td>\n",
       "      <td>1</td>\n",
       "      <td>0</td>\n",
       "      <td>0</td>\n",
       "      <td>0</td>\n",
       "      <td>0</td>\n",
       "      <td>0</td>\n",
       "      <td>0</td>\n",
       "      <td>0</td>\n",
       "      <td>0</td>\n",
       "      <td>1</td>\n",
       "      <td>0</td>\n",
       "      <td>0</td>\n",
       "      <td>0</td>\n",
       "      <td>1</td>\n",
       "      <td>0</td>\n",
       "      <td>0</td>\n",
       "      <td>0</td>\n",
       "      <td>0</td>\n",
       "      <td>0</td>\n",
       "      <td>0</td>\n",
       "      <td>0</td>\n",
       "      <td>0</td>\n",
       "      <td>0</td>\n",
       "      <td>0</td>\n",
       "      <td>1</td>\n",
       "      <td>0</td>\n",
       "      <td>0</td>\n",
       "    </tr>\n",
       "  </tbody>\n",
       "</table>\n",
       "</div>"
      ],
      "text/plain": [
       "   video_id  viewtimes_day  vertical_position  horizontal_poition  imdb_votes  \\\n",
       "0    385504     307127.606             -1.106              -2.116       1.984   \n",
       "1    300175     270338.426             -1.106              -2.116       1.258   \n",
       "2    361899     256165.867             -1.106              -2.116       6.043   \n",
       "3    308314     196622.721             -0.780              -2.032      11.077   \n",
       "4    307201     159841.652             -1.106              -2.116       1.258   \n",
       "\n",
       "   budget  boxoffice  imdb_rating  duration_in_mins  metacritic_score  \\\n",
       "0   1.470      4.696        0.542             1.079            -0.630   \n",
       "1   1.470     -1.022        0.542             0.257            -1.997   \n",
       "2   3.108      3.898        1.100             1.243             0.327   \n",
       "3   1.470      0.767        1.309             1.952             5.250   \n",
       "4   3.290     -0.265        0.472             0.758            -2.544   \n",
       "\n",
       "   star_score  lionsgate  mgm  other  paramount  G  NC-17  NotRated  PG  \\\n",
       "0       0.033          1    0      0          0  0      0         0   0   \n",
       "1       3.434          1    0      0          0  0      0         0   0   \n",
       "2       2.102          0    0      1          0  0      0         0   0   \n",
       "3      -0.063          1    0      0          0  0      0         0   0   \n",
       "4       3.029          1    0      0          0  0      0         0   0   \n",
       "\n",
       "   PG-13  R  BAFTA  Golden Globe  Oscar  no award  other award  Action  \\\n",
       "0      1  0      0             0      0         0            1       1   \n",
       "1      0  1      0             0      0         1            0       0   \n",
       "2      0  1      0             0      0         0            1       0   \n",
       "3      0  1      0             0      1         0            0       1   \n",
       "4      0  1      0             0      0         0            1       0   \n",
       "\n",
       "   Adventure  Animation  Comedy  Crime  Documentary  Drama  Fantasy  \\\n",
       "0          0          0       0      0            0      1        0   \n",
       "1          0          0       1      1            0      0        0   \n",
       "2          0          0       0      1            0      1        0   \n",
       "3          0          0       0      0            1      1        0   \n",
       "4          0          0       0      1            1      0        0   \n",
       "\n",
       "   Foreign/International  Horror  Independent  Kids & Family  Music  Musicals  \\\n",
       "0                      0       0            0              0      0         0   \n",
       "1                      0       0            0              0      0         0   \n",
       "2                      0       0            0              0      0         0   \n",
       "3                      0       0            0              0      0         0   \n",
       "4                      0       0            0              0      0         0   \n",
       "\n",
       "   Mystery  Romance  Sci-Fi  Sport  Thriller  War  Western  Misc_genres  \\\n",
       "0        0        0       0      0         1    0        0            0   \n",
       "1        0        0       0      0         1    0        0            0   \n",
       "2        0        0       0      0         0    0        0            0   \n",
       "3        1        0       0      0         1    1        0            0   \n",
       "4        1        0       0      0         1    0        0            0   \n",
       "\n",
       "   1916-1974  1974-1991  1991-2001  2001-2006  2006-2008  2008-2010  \\\n",
       "0          0          0          0          0          0          0   \n",
       "1          0          0          0          0          0          0   \n",
       "2          0          0          0          0          0          0   \n",
       "3          0          0          0          0          1          0   \n",
       "4          0          0          0          0          0          0   \n",
       "\n",
       "   2010-2012  2012-2013  2013-2014  2014-2017  \n",
       "0          0          1          0          0  \n",
       "1          0          1          0          0  \n",
       "2          1          0          0          0  \n",
       "3          0          0          0          0  \n",
       "4          0          1          0          0  "
      ]
     },
     "execution_count": 36,
     "metadata": {},
     "output_type": "execute_result"
    }
   ],
   "source": [
    "#Standard scaling\n",
    "scale_lst = ['vertical_position', 'horizontal_poition', 'budget','boxoffice', \n",
    "             'imdb_votes','imdb_rating','duration_in_mins', 'metacritic_score','star_score']\n",
    "newTV_sc = newTV1.copy()\n",
    "\n",
    "sc_scale = StandardScaler().fit(newTV_sc[scale_lst])\n",
    "newTV_sc[scale_lst] = sc_scale.transform(newTV_sc[scale_lst])\n",
    "\n",
    "newTV_sc.head()"
   ]
  },
  {
   "cell_type": "markdown",
   "metadata": {},
   "source": [
    "## 5. Model Training "
   ]
  },
  {
   "cell_type": "markdown",
   "metadata": {},
   "source": [
    "Now, we come to the fun part: model training. Here we will apply Lasso, Ridge and Random Forest models to train our dataset. \n",
    "\n",
    "Before we start the training, we need to split the dataset to save some data for testing. "
   ]
  },
  {
   "cell_type": "code",
   "execution_count": 38,
   "metadata": {},
   "outputs": [],
   "source": [
    "model_train, model_test = train_test_split(newTV_sc, test_size=0.15, random_state = 3)\n",
    "model_train_x = model_train.drop(['video_id', 'viewtimes_day'], axis = 1)\n",
    "model_test_x = model_test.drop(['video_id', 'viewtimes_day'], axis = 1)\n",
    "model_train_y = model_train['viewtimes_day']\n",
    "model_test_y = model_test['viewtimes_day']"
   ]
  },
  {
   "cell_type": "markdown",
   "metadata": {},
   "source": [
    "### 5.1 Lasso Linear Regression "
   ]
  },
  {
   "cell_type": "code",
   "execution_count": 41,
   "metadata": {},
   "outputs": [
    {
     "data": {
      "image/png": "[encoded data removed]",
      "text/plain": [
       "<Figure size 432x288 with 1 Axes>"
      ]
     },
     "metadata": {
      "needs_background": "light"
     },
     "output_type": "display_data"
    },
    {
     "name": "stdout",
     "output_type": "stream",
     "text": [
      "The optimaized alpha and score of Lasso linear is: \n"
     ]
    },
    {
     "data": {
      "text/plain": [
       "(None, 122.06107238906554, 0.36457853302954246)"
      ]
     },
     "execution_count": 41,
     "metadata": {},
     "output_type": "execute_result"
    }
   ],
   "source": [
    "from sklearn.model_selection import train_test_split\n",
    "from sklearn.linear_model import LinearRegression, Lasso, Ridge\n",
    "from sklearn.metrics import mean_squared_error, r2_score\n",
    "from math import sqrt\n",
    "\n",
    "lr_train, lr_validate = train_test_split(model_train, test_size=0.15, random_state = 0)\n",
    "\n",
    "lr_train_x = lr_train.drop(['video_id', 'viewtimes_day'], axis = 1)\n",
    "lr_validate_x = lr_validate.drop(['video_id', 'viewtimes_day'], axis = 1)\n",
    "lr_train_y = lr_train['viewtimes_day']\n",
    "lr_validate_y = lr_validate['viewtimes_day']\n",
    "\n",
    "alphas = np.logspace (-0.3, 2.5, num=150)\n",
    "# alphas= [0.000000001]\n",
    "scores = np.empty_like(alphas)\n",
    "opt_a = float('-inf')\n",
    "max_score = float('-inf')\n",
    "for i, a in enumerate(alphas):\n",
    "    lasso = Lasso()\n",
    "    lasso.set_params(alpha = a)\n",
    "    lasso.fit(lr_train_x, lr_train_y)\n",
    "    scores[i] = lasso.score(lr_validate_x, lr_validate_y)\n",
    "    if scores[i] > max_score:\n",
    "        max_score = scores[i]\n",
    "        opt_a = a\n",
    "        lasso_save = lasso\n",
    "plt.plot(alphas, scores, color='b', linestyle='dashed', marker='o',markerfacecolor='blue', markersize=6)\n",
    "plt.xlabel('alpha')\n",
    "plt.ylabel('score')\n",
    "plt.grid(True)\n",
    "plt.title('score vs. alpha')\n",
    "plt.show()\n",
    "print ('The optimaized alpha and score of Lasso linear is: '), opt_a, max_score"
   ]
  },
  {
   "cell_type": "code",
   "execution_count": 42,
   "metadata": {},
   "outputs": [
    {
     "data": {
      "text/plain": [
       "Lasso(alpha=122.06107238906554, copy_X=True, fit_intercept=True, max_iter=1000,\n",
       "      normalize=False, positive=False, precompute=False, random_state=None,\n",
       "      selection='cyclic', tol=0.0001, warm_start=False)"
      ]
     },
     "execution_count": 42,
     "metadata": {},
     "output_type": "execute_result"
    }
   ],
   "source": [
    "# combine the validate data and training data, use the optimal alpha, re-train the model\n",
    "lasso_f = Lasso()\n",
    "lasso_f.set_params(alpha = opt_a)\n",
    "lasso_f.fit(model_train_x, model_train_y)"
   ]
  },
  {
   "cell_type": "markdown",
   "metadata": {},
   "source": [
    "### 5.2 Lasso Linear Regression Polynomial-2 "
   ]
  },
  {
   "cell_type": "code",
   "execution_count": 43,
   "metadata": {},
   "outputs": [
    {
     "name": "stderr",
     "output_type": "stream",
     "text": [
      "/opt/conda/envs/data3/lib/python3.7/site-packages/sklearn/linear_model/coordinate_descent.py:475: ConvergenceWarning: Objective did not converge. You might want to increase the number of iterations. Duality gap: 32955562904.809772, tolerance: 48022560.44586841\n",
      "  positive)\n",
      "/opt/conda/envs/data3/lib/python3.7/site-packages/sklearn/linear_model/coordinate_descent.py:475: ConvergenceWarning: Objective did not converge. You might want to increase the number of iterations. Duality gap: 32961858347.037666, tolerance: 48022560.44586841\n",
      "  positive)\n",
      "/opt/conda/envs/data3/lib/python3.7/site-packages/sklearn/linear_model/coordinate_descent.py:475: ConvergenceWarning: Objective did not converge. You might want to increase the number of iterations. Duality gap: 32969156642.673843, tolerance: 48022560.44586841\n",
      "  positive)\n",
      "/opt/conda/envs/data3/lib/python3.7/site-packages/sklearn/linear_model/coordinate_descent.py:475: ConvergenceWarning: Objective did not converge. You might want to increase the number of iterations. Duality gap: 32977598087.144222, tolerance: 48022560.44586841\n",
      "  positive)\n",
      "/opt/conda/envs/data3/lib/python3.7/site-packages/sklearn/linear_model/coordinate_descent.py:475: ConvergenceWarning: Objective did not converge. You might want to increase the number of iterations. Duality gap: 32987329109.45131, tolerance: 48022560.44586841\n",
      "  positive)\n",
      "/opt/conda/envs/data3/lib/python3.7/site-packages/sklearn/linear_model/coordinate_descent.py:475: ConvergenceWarning: Objective did not converge. You might want to increase the number of iterations. Duality gap: 32998560923.769894, tolerance: 48022560.44586841\n",
      "  positive)\n",
      "/opt/conda/envs/data3/lib/python3.7/site-packages/sklearn/linear_model/coordinate_descent.py:475: ConvergenceWarning: Objective did not converge. You might want to increase the number of iterations. Duality gap: 33011523804.153484, tolerance: 48022560.44586841\n",
      "  positive)\n",
      "/opt/conda/envs/data3/lib/python3.7/site-packages/sklearn/linear_model/coordinate_descent.py:475: ConvergenceWarning: Objective did not converge. You might want to increase the number of iterations. Duality gap: 33026449486.511696, tolerance: 48022560.44586841\n",
      "  positive)\n",
      "/opt/conda/envs/data3/lib/python3.7/site-packages/sklearn/linear_model/coordinate_descent.py:475: ConvergenceWarning: Objective did not converge. You might want to increase the number of iterations. Duality gap: 33043601429.188156, tolerance: 48022560.44586841\n",
      "  positive)\n",
      "/opt/conda/envs/data3/lib/python3.7/site-packages/sklearn/linear_model/coordinate_descent.py:475: ConvergenceWarning: Objective did not converge. You might want to increase the number of iterations. Duality gap: 33063299037.277184, tolerance: 48022560.44586841\n",
      "  positive)\n",
      "/opt/conda/envs/data3/lib/python3.7/site-packages/sklearn/linear_model/coordinate_descent.py:475: ConvergenceWarning: Objective did not converge. You might want to increase the number of iterations. Duality gap: 33085866526.228676, tolerance: 48022560.44586841\n",
      "  positive)\n",
      "/opt/conda/envs/data3/lib/python3.7/site-packages/sklearn/linear_model/coordinate_descent.py:475: ConvergenceWarning: Objective did not converge. You might want to increase the number of iterations. Duality gap: 33111782965.887573, tolerance: 48022560.44586841\n",
      "  positive)\n",
      "/opt/conda/envs/data3/lib/python3.7/site-packages/sklearn/linear_model/coordinate_descent.py:475: ConvergenceWarning: Objective did not converge. You might want to increase the number of iterations. Duality gap: 33141619914.426605, tolerance: 48022560.44586841\n",
      "  positive)\n",
      "/opt/conda/envs/data3/lib/python3.7/site-packages/sklearn/linear_model/coordinate_descent.py:475: ConvergenceWarning: Objective did not converge. You might want to increase the number of iterations. Duality gap: 33175792467.598335, tolerance: 48022560.44586841\n",
      "  positive)\n",
      "/opt/conda/envs/data3/lib/python3.7/site-packages/sklearn/linear_model/coordinate_descent.py:475: ConvergenceWarning: Objective did not converge. You might want to increase the number of iterations. Duality gap: 33214790368.475765, tolerance: 48022560.44586841\n",
      "  positive)\n",
      "/opt/conda/envs/data3/lib/python3.7/site-packages/sklearn/linear_model/coordinate_descent.py:475: ConvergenceWarning: Objective did not converge. You might want to increase the number of iterations. Duality gap: 33259459892.943546, tolerance: 48022560.44586841\n",
      "  positive)\n",
      "/opt/conda/envs/data3/lib/python3.7/site-packages/sklearn/linear_model/coordinate_descent.py:475: ConvergenceWarning: Objective did not converge. You might want to increase the number of iterations. Duality gap: 33310971664.37555, tolerance: 48022560.44586841\n",
      "  positive)\n",
      "/opt/conda/envs/data3/lib/python3.7/site-packages/sklearn/linear_model/coordinate_descent.py:475: ConvergenceWarning: Objective did not converge. You might want to increase the number of iterations. Duality gap: 33369905244.073475, tolerance: 48022560.44586841\n",
      "  positive)\n",
      "/opt/conda/envs/data3/lib/python3.7/site-packages/sklearn/linear_model/coordinate_descent.py:475: ConvergenceWarning: Objective did not converge. You might want to increase the number of iterations. Duality gap: 33437107555.196285, tolerance: 48022560.44586841\n",
      "  positive)\n",
      "/opt/conda/envs/data3/lib/python3.7/site-packages/sklearn/linear_model/coordinate_descent.py:475: ConvergenceWarning: Objective did not converge. You might want to increase the number of iterations. Duality gap: 33513918509.153076, tolerance: 48022560.44586841\n",
      "  positive)\n",
      "/opt/conda/envs/data3/lib/python3.7/site-packages/sklearn/linear_model/coordinate_descent.py:475: ConvergenceWarning: Objective did not converge. You might want to increase the number of iterations. Duality gap: 33601468079.551586, tolerance: 48022560.44586841\n",
      "  positive)\n",
      "/opt/conda/envs/data3/lib/python3.7/site-packages/sklearn/linear_model/coordinate_descent.py:475: ConvergenceWarning: Objective did not converge. You might want to increase the number of iterations. Duality gap: 33701073544.772484, tolerance: 48022560.44586841\n",
      "  positive)\n",
      "/opt/conda/envs/data3/lib/python3.7/site-packages/sklearn/linear_model/coordinate_descent.py:475: ConvergenceWarning: Objective did not converge. You might want to increase the number of iterations. Duality gap: 33814309916.76976, tolerance: 48022560.44586841\n",
      "  positive)\n",
      "/opt/conda/envs/data3/lib/python3.7/site-packages/sklearn/linear_model/coordinate_descent.py:475: ConvergenceWarning: Objective did not converge. You might want to increase the number of iterations. Duality gap: 33942449623.783356, tolerance: 48022560.44586841\n",
      "  positive)\n",
      "/opt/conda/envs/data3/lib/python3.7/site-packages/sklearn/linear_model/coordinate_descent.py:475: ConvergenceWarning: Objective did not converge. You might want to increase the number of iterations. Duality gap: 34088645017.636993, tolerance: 48022560.44586841\n",
      "  positive)\n",
      "/opt/conda/envs/data3/lib/python3.7/site-packages/sklearn/linear_model/coordinate_descent.py:475: ConvergenceWarning: Objective did not converge. You might want to increase the number of iterations. Duality gap: 34253110116.651844, tolerance: 48022560.44586841\n",
      "  positive)\n",
      "/opt/conda/envs/data3/lib/python3.7/site-packages/sklearn/linear_model/coordinate_descent.py:475: ConvergenceWarning: Objective did not converge. You might want to increase the number of iterations. Duality gap: 34439063008.74035, tolerance: 48022560.44586841\n",
      "  positive)\n",
      "/opt/conda/envs/data3/lib/python3.7/site-packages/sklearn/linear_model/coordinate_descent.py:475: ConvergenceWarning: Objective did not converge. You might want to increase the number of iterations. Duality gap: 34650258554.1026, tolerance: 48022560.44586841\n",
      "  positive)\n",
      "/opt/conda/envs/data3/lib/python3.7/site-packages/sklearn/linear_model/coordinate_descent.py:475: ConvergenceWarning: Objective did not converge. You might want to increase the number of iterations. Duality gap: 34888166966.644455, tolerance: 48022560.44586841\n",
      "  positive)\n",
      "/opt/conda/envs/data3/lib/python3.7/site-packages/sklearn/linear_model/coordinate_descent.py:475: ConvergenceWarning: Objective did not converge. You might want to increase the number of iterations. Duality gap: 35147147664.22772, tolerance: 48022560.44586841\n",
      "  positive)\n",
      "/opt/conda/envs/data3/lib/python3.7/site-packages/sklearn/linear_model/coordinate_descent.py:475: ConvergenceWarning: Objective did not converge. You might want to increase the number of iterations. Duality gap: 35441125590.850266, tolerance: 48022560.44586841\n",
      "  positive)\n"
     ]
    },
    {
     "name": "stderr",
     "output_type": "stream",
     "text": [
      "/opt/conda/envs/data3/lib/python3.7/site-packages/sklearn/linear_model/coordinate_descent.py:475: ConvergenceWarning: Objective did not converge. You might want to increase the number of iterations. Duality gap: 35769002499.51452, tolerance: 48022560.44586841\n",
      "  positive)\n",
      "/opt/conda/envs/data3/lib/python3.7/site-packages/sklearn/linear_model/coordinate_descent.py:475: ConvergenceWarning: Objective did not converge. You might want to increase the number of iterations. Duality gap: 36130305094.5606, tolerance: 48022560.44586841\n",
      "  positive)\n",
      "/opt/conda/envs/data3/lib/python3.7/site-packages/sklearn/linear_model/coordinate_descent.py:475: ConvergenceWarning: Objective did not converge. You might want to increase the number of iterations. Duality gap: 36535744243.55806, tolerance: 48022560.44586841\n",
      "  positive)\n",
      "/opt/conda/envs/data3/lib/python3.7/site-packages/sklearn/linear_model/coordinate_descent.py:475: ConvergenceWarning: Objective did not converge. You might want to increase the number of iterations. Duality gap: 36963110632.62277, tolerance: 48022560.44586841\n",
      "  positive)\n",
      "/opt/conda/envs/data3/lib/python3.7/site-packages/sklearn/linear_model/coordinate_descent.py:475: ConvergenceWarning: Objective did not converge. You might want to increase the number of iterations. Duality gap: 37422687342.28299, tolerance: 48022560.44586841\n",
      "  positive)\n",
      "/opt/conda/envs/data3/lib/python3.7/site-packages/sklearn/linear_model/coordinate_descent.py:475: ConvergenceWarning: Objective did not converge. You might want to increase the number of iterations. Duality gap: 37921358254.72324, tolerance: 48022560.44586841\n",
      "  positive)\n",
      "/opt/conda/envs/data3/lib/python3.7/site-packages/sklearn/linear_model/coordinate_descent.py:475: ConvergenceWarning: Objective did not converge. You might want to increase the number of iterations. Duality gap: 38407451027.46821, tolerance: 48022560.44586841\n",
      "  positive)\n",
      "/opt/conda/envs/data3/lib/python3.7/site-packages/sklearn/linear_model/coordinate_descent.py:475: ConvergenceWarning: Objective did not converge. You might want to increase the number of iterations. Duality gap: 38870908936.31896, tolerance: 48022560.44586841\n",
      "  positive)\n",
      "/opt/conda/envs/data3/lib/python3.7/site-packages/sklearn/linear_model/coordinate_descent.py:475: ConvergenceWarning: Objective did not converge. You might want to increase the number of iterations. Duality gap: 39138804336.77658, tolerance: 48022560.44586841\n",
      "  positive)\n",
      "/opt/conda/envs/data3/lib/python3.7/site-packages/sklearn/linear_model/coordinate_descent.py:475: ConvergenceWarning: Objective did not converge. You might want to increase the number of iterations. Duality gap: 39328018319.40184, tolerance: 48022560.44586841\n",
      "  positive)\n",
      "/opt/conda/envs/data3/lib/python3.7/site-packages/sklearn/linear_model/coordinate_descent.py:475: ConvergenceWarning: Objective did not converge. You might want to increase the number of iterations. Duality gap: 39814887605.19716, tolerance: 48022560.44586841\n",
      "  positive)\n",
      "/opt/conda/envs/data3/lib/python3.7/site-packages/sklearn/linear_model/coordinate_descent.py:475: ConvergenceWarning: Objective did not converge. You might want to increase the number of iterations. Duality gap: 41257760291.40962, tolerance: 48022560.44586841\n",
      "  positive)\n",
      "/opt/conda/envs/data3/lib/python3.7/site-packages/sklearn/linear_model/coordinate_descent.py:475: ConvergenceWarning: Objective did not converge. You might want to increase the number of iterations. Duality gap: 41809989293.53121, tolerance: 48022560.44586841\n",
      "  positive)\n",
      "/opt/conda/envs/data3/lib/python3.7/site-packages/sklearn/linear_model/coordinate_descent.py:475: ConvergenceWarning: Objective did not converge. You might want to increase the number of iterations. Duality gap: 42406247513.033516, tolerance: 48022560.44586841\n",
      "  positive)\n",
      "/opt/conda/envs/data3/lib/python3.7/site-packages/sklearn/linear_model/coordinate_descent.py:475: ConvergenceWarning: Objective did not converge. You might want to increase the number of iterations. Duality gap: 42545306314.74092, tolerance: 48022560.44586841\n",
      "  positive)\n",
      "/opt/conda/envs/data3/lib/python3.7/site-packages/sklearn/linear_model/coordinate_descent.py:475: ConvergenceWarning: Objective did not converge. You might want to increase the number of iterations. Duality gap: 43180959216.9263, tolerance: 48022560.44586841\n",
      "  positive)\n",
      "/opt/conda/envs/data3/lib/python3.7/site-packages/sklearn/linear_model/coordinate_descent.py:475: ConvergenceWarning: Objective did not converge. You might want to increase the number of iterations. Duality gap: 45635064048.317696, tolerance: 48022560.44586841\n",
      "  positive)\n",
      "/opt/conda/envs/data3/lib/python3.7/site-packages/sklearn/linear_model/coordinate_descent.py:475: ConvergenceWarning: Objective did not converge. You might want to increase the number of iterations. Duality gap: 45789801964.70106, tolerance: 48022560.44586841\n",
      "  positive)\n",
      "/opt/conda/envs/data3/lib/python3.7/site-packages/sklearn/linear_model/coordinate_descent.py:475: ConvergenceWarning: Objective did not converge. You might want to increase the number of iterations. Duality gap: 47750312486.024925, tolerance: 48022560.44586841\n",
      "  positive)\n",
      "/opt/conda/envs/data3/lib/python3.7/site-packages/sklearn/linear_model/coordinate_descent.py:475: ConvergenceWarning: Objective did not converge. You might want to increase the number of iterations. Duality gap: 50001295579.58406, tolerance: 48022560.44586841\n",
      "  positive)\n",
      "/opt/conda/envs/data3/lib/python3.7/site-packages/sklearn/linear_model/coordinate_descent.py:475: ConvergenceWarning: Objective did not converge. You might want to increase the number of iterations. Duality gap: 49037516271.11494, tolerance: 48022560.44586841\n",
      "  positive)\n",
      "/opt/conda/envs/data3/lib/python3.7/site-packages/sklearn/linear_model/coordinate_descent.py:475: ConvergenceWarning: Objective did not converge. You might want to increase the number of iterations. Duality gap: 46776006279.503784, tolerance: 48022560.44586841\n",
      "  positive)\n",
      "/opt/conda/envs/data3/lib/python3.7/site-packages/sklearn/linear_model/coordinate_descent.py:475: ConvergenceWarning: Objective did not converge. You might want to increase the number of iterations. Duality gap: 38859212782.37677, tolerance: 48022560.44586841\n",
      "  positive)\n",
      "/opt/conda/envs/data3/lib/python3.7/site-packages/sklearn/linear_model/coordinate_descent.py:475: ConvergenceWarning: Objective did not converge. You might want to increase the number of iterations. Duality gap: 26119419305.335896, tolerance: 48022560.44586841\n",
      "  positive)\n",
      "/opt/conda/envs/data3/lib/python3.7/site-packages/sklearn/linear_model/coordinate_descent.py:475: ConvergenceWarning: Objective did not converge. You might want to increase the number of iterations. Duality gap: 17003570314.352463, tolerance: 48022560.44586841\n",
      "  positive)\n",
      "/opt/conda/envs/data3/lib/python3.7/site-packages/sklearn/linear_model/coordinate_descent.py:475: ConvergenceWarning: Objective did not converge. You might want to increase the number of iterations. Duality gap: 8582628100.483704, tolerance: 48022560.44586841\n",
      "  positive)\n",
      "/opt/conda/envs/data3/lib/python3.7/site-packages/sklearn/linear_model/coordinate_descent.py:475: ConvergenceWarning: Objective did not converge. You might want to increase the number of iterations. Duality gap: 1140996100.597412, tolerance: 48022560.44586841\n",
      "  positive)\n",
      "/opt/conda/envs/data3/lib/python3.7/site-packages/sklearn/linear_model/coordinate_descent.py:475: ConvergenceWarning: Objective did not converge. You might want to increase the number of iterations. Duality gap: 1617706969.9810638, tolerance: 48022560.44586841\n",
      "  positive)\n",
      "/opt/conda/envs/data3/lib/python3.7/site-packages/sklearn/linear_model/coordinate_descent.py:475: ConvergenceWarning: Objective did not converge. You might want to increase the number of iterations. Duality gap: 714546751.1576843, tolerance: 48022560.44586841\n",
      "  positive)\n",
      "/opt/conda/envs/data3/lib/python3.7/site-packages/sklearn/linear_model/coordinate_descent.py:475: ConvergenceWarning: Objective did not converge. You might want to increase the number of iterations. Duality gap: 450801734.01112366, tolerance: 48022560.44586841\n",
      "  positive)\n",
      "/opt/conda/envs/data3/lib/python3.7/site-packages/sklearn/linear_model/coordinate_descent.py:475: ConvergenceWarning: Objective did not converge. You might want to increase the number of iterations. Duality gap: 318229632.68556213, tolerance: 48022560.44586841\n",
      "  positive)\n"
     ]
    },
    {
     "name": "stderr",
     "output_type": "stream",
     "text": [
      "/opt/conda/envs/data3/lib/python3.7/site-packages/sklearn/linear_model/coordinate_descent.py:475: ConvergenceWarning: Objective did not converge. You might want to increase the number of iterations. Duality gap: 203086025.11465454, tolerance: 48022560.44586841\n",
      "  positive)\n"
     ]
    },
    {
     "data": {
      "image/png": "[encoded data removed]",
      "text/plain": [
       "<Figure size 432x288 with 1 Axes>"
      ]
     },
     "metadata": {
      "needs_background": "light"
     },
     "output_type": "display_data"
    },
    {
     "name": "stdout",
     "output_type": "stream",
     "text": [
      "The optimaized alpha and score of Lasso polynomial is: \n"
     ]
    },
    {
     "data": {
      "text/plain": [
       "(None, 150.38869469554086, 0.5764936326091716)"
      ]
     },
     "execution_count": 43,
     "metadata": {},
     "output_type": "execute_result"
    }
   ],
   "source": [
    "from sklearn.preprocessing import PolynomialFeatures\n",
    "\n",
    "poly = PolynomialFeatures(2)\n",
    "\n",
    "lr_train, lr_validate = train_test_split(model_train, test_size=0.15, random_state = 0)\n",
    "\n",
    "lr_train_x = lr_train.drop(['video_id', 'viewtimes_day'], axis = 1)\n",
    "lr_validate_x = lr_validate.drop(['video_id', 'viewtimes_day'], axis = 1)\n",
    "\n",
    "lr_train_xp = poly.fit_transform(lr_train_x)\n",
    "lr_validate_xp = poly.fit_transform(lr_validate_x)\n",
    "lr_train_y = lr_train['viewtimes_day']\n",
    "lr_validate_y = lr_validate['viewtimes_day']\n",
    "\n",
    "# lr_train_xp = pd.DataFrame(data=lr_train_xp, index=data[:], columns=data[0,1:]) \n",
    "\n",
    "alphas = np.logspace (-2.6, 2.5, num=80)\n",
    "# alphas= [1]\n",
    "scores = np.empty_like(alphas)\n",
    "opt_a = float('-inf')\n",
    "max_score = float('-inf')\n",
    "for i, a in enumerate(alphas):\n",
    "    lasso = Lasso()\n",
    "    lasso.set_params(alpha = a)\n",
    "    lasso.fit(lr_train_xp, lr_train_y)\n",
    "    scores[i] = lasso.score(lr_validate_xp, lr_validate_y)\n",
    "    if scores[i] > max_score:\n",
    "        max_score = scores[i]\n",
    "        opt_a = a\n",
    "        lasso_save = lasso\n",
    "        \n",
    "plt.plot(alphas, scores, color='b', linestyle='dashed', marker='o',markerfacecolor='blue', markersize=6)\n",
    "plt.xlabel('alpha')\n",
    "plt.ylabel('score')\n",
    "plt.grid(True)\n",
    "plt.title('score vs. alpha')\n",
    "plt.show()\n",
    "print ('The optimaized alpha and score of Lasso polynomial is: '), opt_a, max_score"
   ]
  },
  {
   "cell_type": "code",
   "execution_count": 45,
   "metadata": {},
   "outputs": [
    {
     "data": {
      "text/plain": [
       "Lasso(alpha=150.38869469554086, copy_X=True, fit_intercept=True, max_iter=1000,\n",
       "      normalize=False, positive=False, precompute=False, random_state=None,\n",
       "      selection='cyclic', tol=0.0001, warm_start=False)"
      ]
     },
     "execution_count": 45,
     "metadata": {},
     "output_type": "execute_result"
    }
   ],
   "source": [
    "# combine the validate data and training data, use the optimal alpha, re-train the model\n",
    "lr_train_xp1 = poly.fit_transform(model_train_x)\n",
    "\n",
    "lasso_fp = Lasso()\n",
    "lasso_fp.set_params(alpha = opt_a)\n",
    "lasso_fp.fit(lr_train_xp1, model_train_y)\n",
    "\n",
    "# lasso_fp is the Lasso model (polynomial feature), to be tested with test data."
   ]
  },
  {
   "cell_type": "markdown",
   "metadata": {},
   "source": [
    "### 5.3  Ridge Linear Regression "
   ]
  },
  {
   "cell_type": "code",
   "execution_count": 46,
   "metadata": {},
   "outputs": [
    {
     "data": {
      "image/png": "[encoded data removed]",
      "text/plain": [
       "<Figure size 432x288 with 1 Axes>"
      ]
     },
     "metadata": {
      "needs_background": "light"
     },
     "output_type": "display_data"
    },
    {
     "name": "stdout",
     "output_type": "stream",
     "text": [
      "The optimaized alpha and score of Ridge linear is: \n"
     ]
    },
    {
     "data": {
      "text/plain": [
       "(None, 163.97026580002054, 0.35296043098491625)"
      ]
     },
     "execution_count": 46,
     "metadata": {},
     "output_type": "execute_result"
    }
   ],
   "source": [
    "# Use the same training data set as Lasso (linear features)\n",
    "lr_train, lr_validate = train_test_split(model_train, test_size=0.15, random_state = 0)\n",
    "\n",
    "alphas = np.logspace (-10, 3, num=150)\n",
    "# alphas= [0.000000001]\n",
    "scores = np.empty_like(alphas)\n",
    "opt_a = float('-inf')\n",
    "max_score = float('-inf')\n",
    "for i, a in enumerate(alphas):\n",
    "    ridge = Ridge()\n",
    "    ridge.set_params(alpha = a)\n",
    "    ridge.fit(lr_train_x, lr_train_y)\n",
    "    scores[i] = ridge.score(lr_validate_x, lr_validate_y)\n",
    "    if scores[i] > max_score:\n",
    "        max_score = scores[i]\n",
    "        opt_a = a\n",
    "        ridge_save = ridge\n",
    "plt.plot(alphas, scores, color='r', linestyle='dashed', marker='o',markerfacecolor='r', markersize=6)\n",
    "plt.xlabel('alpha')\n",
    "plt.ylabel('score')\n",
    "plt.grid(True)\n",
    "plt.title('score vs. alpha')\n",
    "plt.show()\n",
    "print ('The optimaized alpha and score of Ridge linear is: '), opt_a, max_score"
   ]
  },
  {
   "cell_type": "code",
   "execution_count": 47,
   "metadata": {},
   "outputs": [
    {
     "data": {
      "text/plain": [
       "Ridge(alpha=163.97026580002054, copy_X=True, fit_intercept=True, max_iter=None,\n",
       "      normalize=False, random_state=None, solver='auto', tol=0.001)"
      ]
     },
     "execution_count": 47,
     "metadata": {},
     "output_type": "execute_result"
    }
   ],
   "source": [
    "# add the 15% validate data, use the optimal alpha, re-train the model\n",
    "\n",
    "ridge_f = Ridge()\n",
    "ridge_f.set_params(alpha = opt_a)\n",
    "ridge_f.fit(model_train_x, model_train_y)\n",
    "\n",
    "# ridge_f is the Ridge model (linear feature), to be tested with test data."
   ]
  },
  {
   "cell_type": "markdown",
   "metadata": {},
   "source": [
    "### 5.4 Ridge Linear Regression Polynomial-2 "
   ]
  },
  {
   "cell_type": "code",
   "execution_count": 48,
   "metadata": {},
   "outputs": [
    {
     "data": {
      "image/png": "[encoded data removed]",
      "text/plain": [
       "<Figure size 432x288 with 1 Axes>"
      ]
     },
     "metadata": {
      "needs_background": "light"
     },
     "output_type": "display_data"
    },
    {
     "name": "stdout",
     "output_type": "stream",
     "text": [
      "The optimaized alpha and score of Ridge linear is: \n"
     ]
    },
    {
     "data": {
      "text/plain": [
       "(None, 14.38449888287663, 0.46816918700195065)"
      ]
     },
     "execution_count": 48,
     "metadata": {},
     "output_type": "execute_result"
    }
   ],
   "source": [
    "# Use the same training data set as Lasso (polynomial features)\n",
    "from sklearn.preprocessing import PolynomialFeatures\n",
    "poly = PolynomialFeatures(2)\n",
    "\n",
    "lr_train, lr_validate = train_test_split(model_train, test_size=0.15, random_state = 0)\n",
    "\n",
    "lr_train_x = lr_train.drop(['video_id', 'viewtimes_day'], axis = 1)\n",
    "lr_validate_x = lr_validate.drop(['video_id', 'viewtimes_day'], axis = 1)\n",
    "lr_train_y = lr_train['viewtimes_day']\n",
    "lr_validate_y = lr_validate['viewtimes_day']\n",
    "\n",
    "lr_train_xp = poly.fit_transform(lr_train_x)\n",
    "lr_validate_xp = poly.fit_transform(lr_validate_x)\n",
    "\n",
    "alphas = np.logspace (-2, 2, num=20)\n",
    "# alphas= [1]\n",
    "scores = np.empty_like(alphas)\n",
    "opt_a = float('-inf')\n",
    "max_score = float('-inf')\n",
    "for i, a in enumerate(alphas):\n",
    "    ridge = Ridge()\n",
    "    ridge.set_params(alpha = a)\n",
    "    ridge.fit(lr_train_xp, lr_train_y)\n",
    "    scores[i] = ridge.score(lr_validate_xp, lr_validate_y)\n",
    "    if scores[i] > max_score:\n",
    "        max_score = scores[i]\n",
    "        opt_a = a\n",
    "        ridge_save = ridge\n",
    "        \n",
    "plt.plot(alphas, scores, color='brown', linestyle='dashed', marker='o',markerfacecolor='g', markersize=6)\n",
    "plt.xlabel('alpha')\n",
    "plt.ylabel('score')\n",
    "plt.grid(True)\n",
    "plt.title('score vs. alpha')\n",
    "plt.show()\n",
    "print ('The optimaized alpha and score of Ridge linear is: '), opt_a, max_score"
   ]
  },
  {
   "cell_type": "markdown",
   "metadata": {},
   "source": [
    "### 5.5 Random Forest "
   ]
  },
  {
   "cell_type": "code",
   "execution_count": 50,
   "metadata": {},
   "outputs": [
    {
     "data": {
      "text/plain": [
       "GridSearchCV(cv=5, error_score='raise-deprecating',\n",
       "             estimator=RandomForestRegressor(bootstrap=True, criterion='mse',\n",
       "                                             max_depth=None,\n",
       "                                             max_features='sqrt',\n",
       "                                             max_leaf_nodes=None,\n",
       "                                             min_impurity_decrease=0.0,\n",
       "                                             min_impurity_split=None,\n",
       "                                             min_samples_leaf=1,\n",
       "                                             min_samples_split=2,\n",
       "                                             min_weight_fraction_leaf=0.0,\n",
       "                                             n_estimators='warn', n_jobs=-1,\n",
       "                                             oob_score=False, random_state=2,\n",
       "                                             verbose=0, warm_start=False),\n",
       "             iid='warn', n_jobs=-1,\n",
       "             param_grid={'max_depth': [15, 16, 17, 18, 19, 20, 21],\n",
       "                         'n_estimators': [55, 56, 57, 58, 59, 60, 61, 62, 63,\n",
       "                                          64, 65]},\n",
       "             pre_dispatch='2*n_jobs', refit=True, return_train_score=False,\n",
       "             scoring=None, verbose=0)"
      ]
     },
     "execution_count": 50,
     "metadata": {},
     "output_type": "execute_result"
    }
   ],
   "source": [
    "from sklearn.ensemble import RandomForestRegressor\n",
    "from sklearn.model_selection import GridSearchCV\n",
    "rf=RandomForestRegressor(random_state=2,max_features='sqrt',n_jobs=-1)\n",
    "param_grid={'n_estimators':[55,56,57,58,59,60,61,62,63,64,65],'max_depth':[15,16,17,18,19,20,21]}\n",
    "clf=GridSearchCV(estimator=rf,param_grid=param_grid,cv=5,refit=True,n_jobs=-1,pre_dispatch='2*n_jobs')\n",
    "clf.fit(model_train_x,model_train_y)"
   ]
  },
  {
   "cell_type": "code",
   "execution_count": 51,
   "metadata": {},
   "outputs": [
    {
     "name": "stdout",
     "output_type": "stream",
     "text": [
      "{'mean_fit_time': array([0.46974435, 0.39390178, 0.49565592, 0.56176729, 0.72240462,\n",
      "       0.8194551 , 0.5941905 , 0.55051737, 0.54554024, 0.51304646,\n",
      "       0.52760301, 0.50896482, 0.5445291 , 0.65049253, 0.48410568,\n",
      "       0.54225597, 0.46169991, 0.38232317, 0.48860936, 0.62593369,\n",
      "       0.52723594, 0.52658997, 0.60561547, 0.46312571, 0.58200426,\n",
      "       0.55403485, 0.5951993 , 0.53557229, 0.75834022, 0.54493685,\n",
      "       0.65700111, 0.51536403, 0.6264555 , 0.57744884, 0.43960128,\n",
      "       0.61608577, 0.68771262, 0.61445885, 0.54987488, 0.52004743,\n",
      "       0.4800262 , 0.6896318 , 0.62615371, 0.51784067, 0.48199935,\n",
      "       0.55017948, 0.50984416, 0.60404267, 0.5787539 , 0.65088453,\n",
      "       0.52592959, 0.60876045, 0.52995872, 0.69120183, 0.68869195,\n",
      "       0.55065293, 0.56913128, 0.61394391, 0.37516232, 0.54926348,\n",
      "       0.63400135, 0.62816677, 0.60802183, 0.57524767, 0.58090611,\n",
      "       0.70237513, 0.44933076, 0.55906987, 0.50157857, 0.5520699 ,\n",
      "       0.55758023, 0.62422895, 0.70542259, 0.62647252, 0.52686076,\n",
      "       0.68785372, 0.54235168]), 'std_fit_time': array([0.12738956, 0.06608373, 0.30227761, 0.2533484 , 0.27749205,\n",
      "       0.16374702, 0.3035261 , 0.14407829, 0.13675123, 0.13760993,\n",
      "       0.11756838, 0.09891305, 0.08953033, 0.21119004, 0.12778367,\n",
      "       0.11568997, 0.15764594, 0.05658654, 0.13037669, 0.09113237,\n",
      "       0.09411941, 0.10494228, 0.17096111, 0.11997837, 0.09896651,\n",
      "       0.10121517, 0.06062601, 0.04081874, 0.19182516, 0.15989124,\n",
      "       0.17519044, 0.17517799, 0.15255193, 0.2140522 , 0.08063038,\n",
      "       0.27567017, 0.21488225, 0.21775666, 0.14239815, 0.07264117,\n",
      "       0.16684139, 0.11940763, 0.17774133, 0.11663178, 0.11698137,\n",
      "       0.18578842, 0.05110027, 0.057733  , 0.06107404, 0.14581473,\n",
      "       0.15327359, 0.10190093, 0.04667422, 0.13308369, 0.06737104,\n",
      "       0.08787592, 0.1126752 , 0.06310329, 0.05253777, 0.10593624,\n",
      "       0.0694491 , 0.21416042, 0.11067565, 0.10304778, 0.1273595 ,\n",
      "       0.32925188, 0.04915233, 0.14931873, 0.07014887, 0.07111871,\n",
      "       0.05116273, 0.08045328, 0.22146977, 0.17801993, 0.1946556 ,\n",
      "       0.26220922, 0.14345312]), 'mean_score_time': array([0.1152401 , 0.12732   , 0.1786726 , 0.12444682, 0.21655459,\n",
      "       0.14391494, 0.11248822, 0.13824558, 0.12823849, 0.12722425,\n",
      "       0.11840153, 0.1579042 , 0.13598404, 0.16376314, 0.20526915,\n",
      "       0.15001431, 0.14293857, 0.1711154 , 0.14165659, 0.11681738,\n",
      "       0.17864289, 0.13001285, 0.12104192, 0.15676832, 0.13119168,\n",
      "       0.11193933, 0.16349072, 0.1377017 , 0.14072533, 0.16067004,\n",
      "       0.29818811, 0.26360331, 0.12630548, 0.13352127, 0.14162445,\n",
      "       0.15421114, 0.19611068, 0.11069798, 0.12638721, 0.11155944,\n",
      "       0.18825397, 0.20007353, 0.13912544, 0.12270689, 0.11088028,\n",
      "       0.14152417, 0.11723914, 0.16510725, 0.13283362, 0.1570189 ,\n",
      "       0.14965491, 0.15926442, 0.12110448, 0.13242359, 0.12101364,\n",
      "       0.13272247, 0.18793998, 0.16835451, 0.10810795, 0.14443278,\n",
      "       0.11193862, 0.1241785 , 0.14643574, 0.13681746, 0.17258182,\n",
      "       0.15255651, 0.14570932, 0.15302758, 0.14063072, 0.14499817,\n",
      "       0.14459496, 0.16536589, 0.17138624, 0.14786921, 0.17749949,\n",
      "       0.1231544 , 0.11417885]), 'std_score_time': array([0.00666787, 0.02444716, 0.07993527, 0.01199255, 0.19670726,\n",
      "       0.02762232, 0.00535554, 0.04664759, 0.01957581, 0.01743176,\n",
      "       0.00730249, 0.0665587 , 0.04327128, 0.05820235, 0.08546774,\n",
      "       0.0524438 , 0.05054601, 0.07664173, 0.06576433, 0.01063701,\n",
      "       0.05600324, 0.02423465, 0.01646043, 0.04439641, 0.04044306,\n",
      "       0.00377704, 0.06166364, 0.03037027, 0.05307951, 0.07869257,\n",
      "       0.17139431, 0.18338657, 0.01805562, 0.0166977 , 0.05516222,\n",
      "       0.08525283, 0.09280874, 0.00659708, 0.0265798 , 0.00235542,\n",
      "       0.05713295, 0.08195368, 0.04286273, 0.01727833, 0.00600005,\n",
      "       0.03064808, 0.01015923, 0.05353144, 0.03382206, 0.03969989,\n",
      "       0.03205654, 0.06098732, 0.0104451 , 0.01320333, 0.01423821,\n",
      "       0.03477653, 0.06810274, 0.111707  , 0.0020309 , 0.04216978,\n",
      "       0.00739746, 0.03067155, 0.01513803, 0.02626573, 0.04739372,\n",
      "       0.06705057, 0.06163518, 0.03596086, 0.03829093, 0.02965624,\n",
      "       0.04137631, 0.07055887, 0.0661904 , 0.04493078, 0.13665192,\n",
      "       0.0271648 , 0.00383861]), 'param_max_depth': masked_array(data=[15, 15, 15, 15, 15, 15, 15, 15, 15, 15, 15, 16, 16, 16,\n",
      "                   16, 16, 16, 16, 16, 16, 16, 16, 17, 17, 17, 17, 17, 17,\n",
      "                   17, 17, 17, 17, 17, 18, 18, 18, 18, 18, 18, 18, 18, 18,\n",
      "                   18, 18, 19, 19, 19, 19, 19, 19, 19, 19, 19, 19, 19, 20,\n",
      "                   20, 20, 20, 20, 20, 20, 20, 20, 20, 20, 21, 21, 21, 21,\n",
      "                   21, 21, 21, 21, 21, 21, 21],\n",
      "             mask=[False, False, False, False, False, False, False, False,\n",
      "                   False, False, False, False, False, False, False, False,\n",
      "                   False, False, False, False, False, False, False, False,\n",
      "                   False, False, False, False, False, False, False, False,\n",
      "                   False, False, False, False, False, False, False, False,\n",
      "                   False, False, False, False, False, False, False, False,\n",
      "                   False, False, False, False, False, False, False, False,\n",
      "                   False, False, False, False, False, False, False, False,\n",
      "                   False, False, False, False, False, False, False, False,\n",
      "                   False, False, False, False, False],\n",
      "       fill_value='?',\n",
      "            dtype=object), 'param_n_estimators': masked_array(data=[55, 56, 57, 58, 59, 60, 61, 62, 63, 64, 65, 55, 56, 57,\n",
      "                   58, 59, 60, 61, 62, 63, 64, 65, 55, 56, 57, 58, 59, 60,\n",
      "                   61, 62, 63, 64, 65, 55, 56, 57, 58, 59, 60, 61, 62, 63,\n",
      "                   64, 65, 55, 56, 57, 58, 59, 60, 61, 62, 63, 64, 65, 55,\n",
      "                   56, 57, 58, 59, 60, 61, 62, 63, 64, 65, 55, 56, 57, 58,\n",
      "                   59, 60, 61, 62, 63, 64, 65],\n",
      "             mask=[False, False, False, False, False, False, False, False,\n",
      "                   False, False, False, False, False, False, False, False,\n",
      "                   False, False, False, False, False, False, False, False,\n",
      "                   False, False, False, False, False, False, False, False,\n",
      "                   False, False, False, False, False, False, False, False,\n",
      "                   False, False, False, False, False, False, False, False,\n",
      "                   False, False, False, False, False, False, False, False,\n",
      "                   False, False, False, False, False, False, False, False,\n",
      "                   False, False, False, False, False, False, False, False,\n",
      "                   False, False, False, False, False],\n",
      "       fill_value='?',\n",
      "            dtype=object), 'params': [{'max_depth': 15, 'n_estimators': 55}, {'max_depth': 15, 'n_estimators': 56}, {'max_depth': 15, 'n_estimators': 57}, {'max_depth': 15, 'n_estimators': 58}, {'max_depth': 15, 'n_estimators': 59}, {'max_depth': 15, 'n_estimators': 60}, {'max_depth': 15, 'n_estimators': 61}, {'max_depth': 15, 'n_estimators': 62}, {'max_depth': 15, 'n_estimators': 63}, {'max_depth': 15, 'n_estimators': 64}, {'max_depth': 15, 'n_estimators': 65}, {'max_depth': 16, 'n_estimators': 55}, {'max_depth': 16, 'n_estimators': 56}, {'max_depth': 16, 'n_estimators': 57}, {'max_depth': 16, 'n_estimators': 58}, {'max_depth': 16, 'n_estimators': 59}, {'max_depth': 16, 'n_estimators': 60}, {'max_depth': 16, 'n_estimators': 61}, {'max_depth': 16, 'n_estimators': 62}, {'max_depth': 16, 'n_estimators': 63}, {'max_depth': 16, 'n_estimators': 64}, {'max_depth': 16, 'n_estimators': 65}, {'max_depth': 17, 'n_estimators': 55}, {'max_depth': 17, 'n_estimators': 56}, {'max_depth': 17, 'n_estimators': 57}, {'max_depth': 17, 'n_estimators': 58}, {'max_depth': 17, 'n_estimators': 59}, {'max_depth': 17, 'n_estimators': 60}, {'max_depth': 17, 'n_estimators': 61}, {'max_depth': 17, 'n_estimators': 62}, {'max_depth': 17, 'n_estimators': 63}, {'max_depth': 17, 'n_estimators': 64}, {'max_depth': 17, 'n_estimators': 65}, {'max_depth': 18, 'n_estimators': 55}, {'max_depth': 18, 'n_estimators': 56}, {'max_depth': 18, 'n_estimators': 57}, {'max_depth': 18, 'n_estimators': 58}, {'max_depth': 18, 'n_estimators': 59}, {'max_depth': 18, 'n_estimators': 60}, {'max_depth': 18, 'n_estimators': 61}, {'max_depth': 18, 'n_estimators': 62}, {'max_depth': 18, 'n_estimators': 63}, {'max_depth': 18, 'n_estimators': 64}, {'max_depth': 18, 'n_estimators': 65}, {'max_depth': 19, 'n_estimators': 55}, {'max_depth': 19, 'n_estimators': 56}, {'max_depth': 19, 'n_estimators': 57}, {'max_depth': 19, 'n_estimators': 58}, {'max_depth': 19, 'n_estimators': 59}, {'max_depth': 19, 'n_estimators': 60}, {'max_depth': 19, 'n_estimators': 61}, {'max_depth': 19, 'n_estimators': 62}, {'max_depth': 19, 'n_estimators': 63}, {'max_depth': 19, 'n_estimators': 64}, {'max_depth': 19, 'n_estimators': 65}, {'max_depth': 20, 'n_estimators': 55}, {'max_depth': 20, 'n_estimators': 56}, {'max_depth': 20, 'n_estimators': 57}, {'max_depth': 20, 'n_estimators': 58}, {'max_depth': 20, 'n_estimators': 59}, {'max_depth': 20, 'n_estimators': 60}, {'max_depth': 20, 'n_estimators': 61}, {'max_depth': 20, 'n_estimators': 62}, {'max_depth': 20, 'n_estimators': 63}, {'max_depth': 20, 'n_estimators': 64}, {'max_depth': 20, 'n_estimators': 65}, {'max_depth': 21, 'n_estimators': 55}, {'max_depth': 21, 'n_estimators': 56}, {'max_depth': 21, 'n_estimators': 57}, {'max_depth': 21, 'n_estimators': 58}, {'max_depth': 21, 'n_estimators': 59}, {'max_depth': 21, 'n_estimators': 60}, {'max_depth': 21, 'n_estimators': 61}, {'max_depth': 21, 'n_estimators': 62}, {'max_depth': 21, 'n_estimators': 63}, {'max_depth': 21, 'n_estimators': 64}, {'max_depth': 21, 'n_estimators': 65}], 'split0_test_score': array([0.38603551, 0.38686771, 0.3865352 , 0.38523129, 0.38439345,\n",
      "       0.38454928, 0.38639783, 0.3851586 , 0.38585601, 0.38466918,\n",
      "       0.38255983, 0.4248057 , 0.42141191, 0.42343156, 0.42245713,\n",
      "       0.42631456, 0.42629559, 0.42564528, 0.42734908, 0.42237156,\n",
      "       0.42763721, 0.42669656, 0.37951393, 0.38296372, 0.38639826,\n",
      "       0.38634764, 0.3795929 , 0.37490227, 0.37744393, 0.37754006,\n",
      "       0.37772058, 0.38108928, 0.38158657, 0.39501558, 0.39773831,\n",
      "       0.39925332, 0.398672  , 0.39996505, 0.40375871, 0.39916584,\n",
      "       0.40260835, 0.40058591, 0.40726233, 0.40947165, 0.43649377,\n",
      "       0.43103148, 0.43370988, 0.43185711, 0.42491458, 0.42061327,\n",
      "       0.42328063, 0.42671448, 0.4289938 , 0.43316898, 0.43026418,\n",
      "       0.45699886, 0.45240741, 0.45351922, 0.44820397, 0.44749199,\n",
      "       0.44605314, 0.44818288, 0.45022642, 0.45161575, 0.45585527,\n",
      "       0.45219697, 0.44755163, 0.4469005 , 0.44804404, 0.44580387,\n",
      "       0.43868927, 0.43741886, 0.44007437, 0.43665706, 0.43430271,\n",
      "       0.43665771, 0.43271574]), 'split1_test_score': array([0.55134499, 0.549914  , 0.54245103, 0.55058286, 0.54953228,\n",
      "       0.54938704, 0.55148352, 0.55475378, 0.55665784, 0.56163086,\n",
      "       0.56360611, 0.538439  , 0.53937798, 0.53776695, 0.54864488,\n",
      "       0.54921406, 0.54868344, 0.55114163, 0.55425108, 0.55181478,\n",
      "       0.5497224 , 0.55080616, 0.54482287, 0.54269662, 0.54339096,\n",
      "       0.55365282, 0.55444052, 0.55310313, 0.55469997, 0.55854057,\n",
      "       0.5593533 , 0.55968501, 0.55835544, 0.5549545 , 0.55123366,\n",
      "       0.55279937, 0.56169852, 0.57018772, 0.56987822, 0.57189854,\n",
      "       0.57440276, 0.57766927, 0.57427264, 0.57722014, 0.56393451,\n",
      "       0.56612251, 0.56523666, 0.57376425, 0.57321397, 0.57361837,\n",
      "       0.57546086, 0.57507138, 0.57572288, 0.56878032, 0.57089849,\n",
      "       0.52274999, 0.52125788, 0.5193314 , 0.52694867, 0.52291088,\n",
      "       0.52339385, 0.52739751, 0.53095649, 0.53578834, 0.53602186,\n",
      "       0.53703467, 0.56476766, 0.56449942, 0.56391834, 0.57263436,\n",
      "       0.57216734, 0.57291417, 0.57435007, 0.57716944, 0.57773245,\n",
      "       0.58191352, 0.58458904]), 'split2_test_score': array([0.37811973, 0.37799359, 0.38269108, 0.38390383, 0.3840552 ,\n",
      "       0.38379745, 0.38086453, 0.37615182, 0.37552166, 0.37928078,\n",
      "       0.38211584, 0.3864569 , 0.38919652, 0.39215175, 0.39132171,\n",
      "       0.39180645, 0.39520743, 0.39379291, 0.39156093, 0.38971492,\n",
      "       0.38830454, 0.39100271, 0.41156992, 0.40961197, 0.41176868,\n",
      "       0.40884156, 0.4110655 , 0.40867982, 0.4079356 , 0.40552173,\n",
      "       0.40330957, 0.40289434, 0.40189547, 0.4022263 , 0.40255445,\n",
      "       0.40479287, 0.40701146, 0.40343179, 0.40294506, 0.40244545,\n",
      "       0.39970034, 0.4011217 , 0.40939548, 0.40894877, 0.41191531,\n",
      "       0.40973044, 0.4120467 , 0.41198358, 0.41350386, 0.41020923,\n",
      "       0.40767256, 0.40414377, 0.40089132, 0.40184477, 0.40605608,\n",
      "       0.3870728 , 0.38526727, 0.38780279, 0.38702892, 0.38593579,\n",
      "       0.38321642, 0.38159596, 0.37924197, 0.37737827, 0.37776331,\n",
      "       0.37765953, 0.41013787, 0.40903059, 0.41159607, 0.4075245 ,\n",
      "       0.40765215, 0.40428338, 0.40354992, 0.40065284, 0.39560326,\n",
      "       0.3941889 , 0.39379994]), 'split3_test_score': array([0.61793144, 0.61901674, 0.6220966 , 0.62164288, 0.61907615,\n",
      "       0.6173648 , 0.61693727, 0.61842737, 0.61768852, 0.618018  ,\n",
      "       0.62101193, 0.61541345, 0.61923674, 0.61929056, 0.62087578,\n",
      "       0.62338625, 0.62430385, 0.62412934, 0.62499678, 0.61945769,\n",
      "       0.61959322, 0.62121814, 0.65149964, 0.65268154, 0.65192651,\n",
      "       0.65176804, 0.6542309 , 0.6491835 , 0.64567702, 0.64687631,\n",
      "       0.64461213, 0.64691264, 0.64345876, 0.62133421, 0.62134689,\n",
      "       0.62519738, 0.62742   , 0.62649292, 0.62606338, 0.62440918,\n",
      "       0.62453897, 0.62188922, 0.62427196, 0.62674986, 0.62431284,\n",
      "       0.62840524, 0.6328694 , 0.63308947, 0.63531552, 0.63773016,\n",
      "       0.63410602, 0.63415655, 0.63244987, 0.63253957, 0.63046493,\n",
      "       0.62884546, 0.62749897, 0.62875412, 0.63079797, 0.63561368,\n",
      "       0.63707024, 0.63517241, 0.640101  , 0.63985515, 0.64159739,\n",
      "       0.64080885, 0.63000216, 0.62825994, 0.63307741, 0.63301443,\n",
      "       0.63507342, 0.63602811, 0.63421124, 0.63687095, 0.63311496,\n",
      "       0.63958588, 0.63787437]), 'split4_test_score': array([0.25951172, 0.25209597, 0.24814691, 0.23969203, 0.23767532,\n",
      "       0.23825758, 0.24251123, 0.23168885, 0.23377863, 0.23914297,\n",
      "       0.23768303, 0.26018077, 0.26782496, 0.26467395, 0.26250411,\n",
      "       0.26255011, 0.2624527 , 0.26546794, 0.25615551, 0.25983414,\n",
      "       0.26668315, 0.26409533, 0.25654188, 0.25294703, 0.24834368,\n",
      "       0.24471942, 0.24687046, 0.24965894, 0.25344081, 0.24526363,\n",
      "       0.23890052, 0.24020326, 0.24358264, 0.25151181, 0.24997285,\n",
      "       0.24786252, 0.23903766, 0.24669694, 0.25015148, 0.25319596,\n",
      "       0.24213771, 0.24293342, 0.25220813, 0.25345336, 0.30761232,\n",
      "       0.30830419, 0.30128004, 0.29893135, 0.29779535, 0.29142724,\n",
      "       0.29636255, 0.28544717, 0.28683374, 0.28816085, 0.28825917,\n",
      "       0.27974598, 0.28335797, 0.27975373, 0.27770582, 0.27287116,\n",
      "       0.27492382, 0.27729888, 0.26937605, 0.27237265, 0.27870047,\n",
      "       0.27876634, 0.26799461, 0.26734686, 0.26271838, 0.26203761,\n",
      "       0.26023202, 0.25891365, 0.26146724, 0.2553562 , 0.24805335,\n",
      "       0.25578934, 0.25918558]), 'mean_test_score': array([0.43860544, 0.43719498, 0.43639982, 0.43622823, 0.43496431,\n",
      "       0.43468921, 0.43565742, 0.43325653, 0.43392133, 0.43656874,\n",
      "       0.43741522, 0.44507952, 0.44742799, 0.4474814 , 0.44918098,\n",
      "       0.45067495, 0.4514087 , 0.45205566, 0.45088491, 0.44866003,\n",
      "       0.45040942, 0.45078493, 0.4487971 , 0.44818834, 0.44837482,\n",
      "       0.44907755, 0.44924995, 0.44711494, 0.44784962, 0.44676032,\n",
      "       0.44479245, 0.4461704 , 0.44578925, 0.44502517, 0.44458589,\n",
      "       0.44599782, 0.44678654, 0.44937477, 0.45057956, 0.45024265,\n",
      "       0.4486998 , 0.44886234, 0.45350287, 0.45519001, 0.46887121,\n",
      "       0.4687354 , 0.46904549, 0.46994346, 0.46896542, 0.46673658,\n",
      "       0.46739434, 0.4651266 , 0.46499914, 0.46491898, 0.46520828,\n",
      "       0.45510199, 0.4539762 , 0.4538504 , 0.45415569, 0.45298265,\n",
      "       0.4529492 , 0.45394838, 0.45400077, 0.45542336, 0.45800879,\n",
      "       0.45731405, 0.46411421, 0.46323112, 0.46389429, 0.46422802,\n",
      "       0.4627866 , 0.46193572, 0.46275534, 0.46136667, 0.45778821,\n",
      "       0.46165361, 0.46165912]), 'std_test_score': array([0.12910447, 0.13117721, 0.1315381 , 0.13519727, 0.13495644,\n",
      "       0.13430332, 0.13340523, 0.13800322, 0.13753838, 0.1367408 ,\n",
      "       0.13824985, 0.12307343, 0.12187648, 0.12222826, 0.12510273,\n",
      "       0.12566574, 0.12555387, 0.12514426, 0.1288113 , 0.12617845,\n",
      "       0.12376506, 0.12492411, 0.13669297, 0.13753292, 0.13828924,\n",
      "       0.14092625, 0.14164473, 0.1397959 , 0.13774434, 0.14114021,\n",
      "       0.14256996, 0.14260508, 0.14046279, 0.13032456, 0.12994279,\n",
      "       0.13162843, 0.13627895, 0.13532901, 0.13388976, 0.13328894,\n",
      "       0.13703034, 0.13676277, 0.13290954, 0.13358456, 0.11267166,\n",
      "       0.11454143, 0.11722634, 0.11952211, 0.1206922 , 0.1238505 ,\n",
      "       0.12183051, 0.12499076, 0.12443822, 0.12254656, 0.12205491,\n",
      "       0.11841593, 0.11699497, 0.11791383, 0.12012038, 0.12261696,\n",
      "       0.12282606, 0.12220969, 0.12665581, 0.12653152, 0.12518075,\n",
      "       0.12509303, 0.1259134 , 0.12572624, 0.12810495, 0.13011239,\n",
      "       0.13135079, 0.13246608, 0.13142075, 0.13484655, 0.13674945,\n",
      "       0.13685581, 0.13606788]), 'rank_test_score': array([67, 69, 71, 72, 74, 75, 73, 77, 76, 70, 68, 63, 56, 55, 46, 40, 37,\n",
      "       36, 38, 51, 42, 39, 49, 53, 52, 47, 45, 57, 54, 59, 65, 60, 62, 64,\n",
      "       66, 61, 58, 44, 41, 43, 50, 48, 33, 26,  4,  5,  2,  1,  3,  7,  6,\n",
      "        9, 10, 11,  8, 27, 30, 32, 28, 34, 35, 31, 29, 25, 22, 24, 13, 15,\n",
      "       14, 12, 16, 18, 17, 21, 23, 20, 19], dtype=int32)}\n"
     ]
    },
    {
     "data": {
      "image/png": "[encoded data removed]",
      "text/plain": [
       "<Figure size 432x288 with 1 Axes>"
      ]
     },
     "metadata": {
      "needs_background": "light"
     },
     "output_type": "display_data"
    },
    {
     "name": "stdout",
     "output_type": "stream",
     "text": [
      "the best parameter for max_depth is: 19\n",
      "the best parameter for n_estimators is: 58\n"
     ]
    }
   ],
   "source": [
    "result=clf.cv_results_\n",
    "print(result)\n",
    "max_depth=[15,16,17,18,19,20,21]\n",
    "n_estimators=[55,56,57,58,59,60,61,62,63,64,65]\n",
    "scores=clf.cv_results_['mean_test_score'].reshape(len(max_depth),len(n_estimators))\n",
    "plt.figure(1)\n",
    "plt.subplot(1,1,1)\n",
    "for i,j in enumerate(max_depth):\n",
    "    plt.plot(n_estimators,scores[i],'-o',label='max_depths is: '+str(j))\n",
    "plt.legend(bbox_to_anchor=(1.05, 1), loc='upper left', borderaxespad=0.)\n",
    "plt.xlabel('mean_test_score')\n",
    "plt.ylabel('n_estimators')\n",
    "plt.show()\n",
    "print('the best parameter for max_depth is: '+str(clf.best_params_['max_depth']))\n",
    "print('the best parameter for n_estimators is: '+str(clf.best_params_['n_estimators']))"
   ]
  },
  {
   "cell_type": "markdown",
   "metadata": {},
   "source": [
    "## 6. Model Evaluation "
   ]
  },
  {
   "cell_type": "markdown",
   "metadata": {},
   "source": [
    "### 6.1 Evaluate All Models "
   ]
  },
  {
   "cell_type": "markdown",
   "metadata": {},
   "source": [
    "Now let's evaluate all models based on the results in Section 5. "
   ]
  },
  {
   "cell_type": "code",
   "execution_count": 54,
   "metadata": {},
   "outputs": [
    {
     "name": "stdout",
     "output_type": "stream",
     "text": [
      "lasso score:  0.09954927178753703\n",
      "Mean square error of lasso:  238953191.99910036\n",
      "Root mean squared error of lasso: 15458.110880670392\n"
     ]
    }
   ],
   "source": [
    "#For lasso, the optimal alpha is 122.06107238906554\n",
    "from sklearn.linear_model import Lasso\n",
    "from sklearn.metrics import  mean_squared_error\n",
    "lasso=Lasso(alpha=122.06107238906554)\n",
    "lasso.fit(model_train_x,model_train_y)\n",
    "pred_y=lasso.predict(model_test_x)\n",
    "lasso_score=lasso.score(model_test_x,model_test_y)\n",
    "MSE_lasso=mean_squared_error(model_test_y,pred_y)\n",
    "RMSE_lasso=np.sqrt(MSE_lasso)\n",
    "print ('lasso score: ', lasso_score)\n",
    "print ('Mean square error of lasso: ', MSE_lasso)\n",
    "print ('Root mean squared error of lasso:', RMSE_lasso)"
   ]
  },
  {
   "cell_type": "code",
   "execution_count": 55,
   "metadata": {},
   "outputs": [
    {
     "name": "stdout",
     "output_type": "stream",
     "text": [
      "lasso_p score:  0.09954927178753703\n",
      "Mean square error of lasso_p:  287641280.51386184\n",
      "Root mean squared error of lasso_p: 16959.99058118435\n"
     ]
    }
   ],
   "source": [
    "#for lasso with polynomial feature alpha is 150.38869469554086\n",
    "from sklearn.preprocessing import PolynomialFeatures\n",
    "poly=PolynomialFeatures(2)\n",
    "train_x_p=poly.fit_transform(model_train_x)\n",
    "test_x_p=poly.fit_transform(model_test_x)\n",
    "lasso_p=Lasso(alpha=150.38869469554086)\n",
    "lasso_p.fit(train_x_p,model_train_y)\n",
    "pred_y=lasso_p.predict(test_x_p)\n",
    "lasso_p_score=lasso.score(model_test_x,model_test_y)\n",
    "MSE_lasso_p=mean_squared_error(model_test_y,pred_y)\n",
    "RMSE_lasso_p=np.sqrt(MSE_lasso_p)\n",
    "print ('lasso_p score: ', lasso_p_score)\n",
    "print ('Mean square error of lasso_p: ', MSE_lasso_p)\n",
    "print ('Root mean squared error of lasso_p:', RMSE_lasso_p)"
   ]
  },
  {
   "cell_type": "code",
   "execution_count": 56,
   "metadata": {},
   "outputs": [
    {
     "name": "stdout",
     "output_type": "stream",
     "text": [
      "ridge score:  0.11371374943726777\n",
      "Mean square error of ridge:  235194355.4060953\n",
      "Root mean squared error of ridge: 15336.047580980417\n"
     ]
    }
   ],
   "source": [
    "#for ridge,the optimal alpha is 163.97026580002054\n",
    "from sklearn.linear_model import Ridge\n",
    "from sklearn.metrics import  mean_squared_error\n",
    "ridge=Ridge(alpha=163.97026580002054)\n",
    "ridge.fit(model_train_x,model_train_y)\n",
    "pred_y=ridge.predict(model_test_x)\n",
    "ridge_score=ridge.score(model_test_x,model_test_y)\n",
    "MSE_ridge=mean_squared_error(model_test_y,pred_y)\n",
    "RMSE_ridge=np.sqrt(MSE_ridge)\n",
    "print ('ridge score: ', ridge_score)\n",
    "print ('Mean square error of ridge: ', MSE_ridge)\n",
    "print ('Root mean squared error of ridge:', RMSE_ridge)"
   ]
  },
  {
   "cell_type": "code",
   "execution_count": 57,
   "metadata": {},
   "outputs": [
    {
     "name": "stdout",
     "output_type": "stream",
     "text": [
      "ridge_p score:  0.11371374943726777\n",
      "Mean square error of ridge_p:  164440134.4564482\n",
      "Root mean squared error of ridge_p: 12823.42132414155\n"
     ]
    }
   ],
   "source": [
    "#for lasso with polynomial feature alpha is 14.38449888287663\n",
    "from sklearn.preprocessing import PolynomialFeatures\n",
    "poly=PolynomialFeatures(2)\n",
    "train_x_p=poly.fit_transform(model_train_x)\n",
    "test_x_p=poly.fit_transform(model_test_x)\n",
    "ridge_p=Ridge(alpha=14.38449888287663)\n",
    "ridge_p.fit(train_x_p,model_train_y)\n",
    "pred_y=ridge_p.predict(test_x_p)\n",
    "ridge_p_score=ridge.score(model_test_x,model_test_y)\n",
    "MSE_ridge_p=mean_squared_error(model_test_y,pred_y)\n",
    "RMSE_ridge_p=np.sqrt(MSE_ridge_p)\n",
    "print ('ridge_p score: ', ridge_p_score)\n",
    "print ('Mean square error of ridge_p: ', MSE_ridge_p)\n",
    "print ('Root mean squared error of ridge_p:', RMSE_ridge_p)"
   ]
  },
  {
   "cell_type": "code",
   "execution_count": 58,
   "metadata": {},
   "outputs": [
    {
     "name": "stdout",
     "output_type": "stream",
     "text": [
      "rf score:  0.5139461304918904\n",
      "Mean square error of rf:  128984429.64563024\n",
      "Root mean squared error of rf: 11357.131224285042\n"
     ]
    }
   ],
   "source": [
    "#For randomforest regression, the optimal n_estimators is 58 , the optimal max_depth is 19\n",
    "from sklearn.ensemble import RandomForestRegressor\n",
    "rf=RandomForestRegressor(n_estimators=58,max_depth=19,max_features='sqrt',random_state=2,n_jobs=-1)\n",
    "rf.fit(model_train_x,model_train_y)\n",
    "pred_y=rf.predict(model_test_x)\n",
    "rf_score=rf.score(model_test_x,model_test_y)\n",
    "MSE_rf=mean_squared_error(model_test_y,pred_y)\n",
    "RMSE_rf=np.sqrt(MSE_rf)\n",
    "print ('rf score: ', rf_score)\n",
    "print ('Mean square error of rf: ', MSE_rf)\n",
    "print ('Root mean squared error of rf:', RMSE_rf)"
   ]
  },
  {
   "cell_type": "markdown",
   "metadata": {},
   "source": [
    "### 6.2 Model Comparison "
   ]
  },
  {
   "cell_type": "markdown",
   "metadata": {},
   "source": [
    "Compare those models to choose the best one"
   ]
  },
  {
   "cell_type": "code",
   "execution_count": 59,
   "metadata": {},
   "outputs": [
    {
     "data": {
      "image/png": "[encoded data removed]",
      "text/plain": [
       "<Figure size 432x288 with 1 Axes>"
      ]
     },
     "metadata": {
      "needs_background": "light"
     },
     "output_type": "display_data"
    },
    {
     "data": {
      "image/png": "[encoded data removed]",
      "text/plain": [
       "<Figure size 432x288 with 1 Axes>"
      ]
     },
     "metadata": {
      "needs_background": "light"
     },
     "output_type": "display_data"
    },
    {
     "data": {
      "image/png": "[encoded data removed]",
      "text/plain": [
       "<Figure size 432x288 with 1 Axes>"
      ]
     },
     "metadata": {
      "needs_background": "light"
     },
     "output_type": "display_data"
    }
   ],
   "source": [
    "lst_score = [lasso_score, lasso_p_score, ridge_score, ridge_p_score, rf_score]\n",
    "MSE_lst =  [MSE_lasso, MSE_lasso_p, MSE_ridge, MSE_ridge_p, MSE_rf]\n",
    "RMSE_lst =  [RMSE_lasso, RMSE_lasso_p, RMSE_ridge, RMSE_ridge_p, RMSE_rf]\n",
    "model_lst = ['Lasso_linear','Lasso poly', 'Ridge linear', 'Ridge poly', 'Random forest']\n",
    "\n",
    "plt.figure(1)\n",
    "plt.plot(model_lst, lst_score, 'ro')\n",
    "plt.legend(['r-squre / score'])\n",
    "plt.xlabel('model names',fontsize =16)\n",
    "plt.ylabel('score / r square', fontsize =16)\n",
    "plt.grid(True)\n",
    "plt.show()\n",
    "\n",
    "plt.figure(2)\n",
    "plt.plot(model_lst, MSE_lst, 'g^')\n",
    "plt.legend(['mean square error (MSE)'])\n",
    "plt.xlabel('model names', fontsize =16)\n",
    "plt.ylabel('mean square error', fontsize =16)\n",
    "plt.grid(True)\n",
    "plt.show()\n",
    "\n",
    "plt.figure(3)\n",
    "plt.plot(model_lst, RMSE_lst, 'bs')\n",
    "plt.legend(['root mean square error (RMSE)'])\n",
    "plt.xlabel('model names', fontsize =16)\n",
    "plt.ylabel('root mean square error', fontsize =16)\n",
    "plt.grid(True)\n",
    "plt.show()"
   ]
  },
  {
   "cell_type": "markdown",
   "metadata": {},
   "source": [
    "Obviously, Random Forest is the winner! We should choose this one as our prediction model for the movie prediction. In the future, we can import movie information into this model to predict the viewtimes of those movies to decide if we should import them or not.  \n",
    "\n",
    "Before we conclude, we can take look at the feature importance to have an intuitively understanding of all those features, which can provide some hints for companies which want to build their own online platform. "
   ]
  },
  {
   "cell_type": "markdown",
   "metadata": {},
   "source": [
    "### 6.3 Feature Importance "
   ]
  },
  {
   "cell_type": "markdown",
   "metadata": {},
   "source": [
    "According to MSE,RMSE and R square, the Random Forest Regression has the best performance"
   ]
  },
  {
   "cell_type": "code",
   "execution_count": 61,
   "metadata": {},
   "outputs": [
    {
     "name": "stderr",
     "output_type": "stream",
     "text": [
      "/opt/conda/envs/data3/lib/python3.7/site-packages/ipykernel_launcher.py:2: FutureWarning: The 'get_values' method is deprecated and will be removed in a future version. Use '.to_numpy()' or '.array' instead.\n",
      "  \n"
     ]
    },
    {
     "data": {
      "image/png": "[encoded data removed]",
      "text/plain": [
       "<Figure size 432x288 with 1 Axes>"
      ]
     },
     "metadata": {
      "needs_background": "light"
     },
     "output_type": "display_data"
    }
   ],
   "source": [
    "importances = rf.feature_importances_\n",
    "feature_name = model_train_x.columns.get_values()\n",
    "indices = np.argsort(importances)[::-1]\n",
    "plt.figure(1)\n",
    "plt.bar(feature_name[indices[:20]], importances[indices[:20]])\n",
    "plt.xticks(rotation=90)\n",
    "plt.show()"
   ]
  },
  {
   "cell_type": "markdown",
   "metadata": {},
   "source": [
    "From the feature importance histogram we can see that IMDB votes and movie positions do have significant influence on the viewtimes of a movie. "
   ]
  }
 ],
 "metadata": {
  "kernelspec": {
   "display_name": "Python 3",
   "language": "python",
   "name": "python3"
  },
  "language_info": {
   "codemirror_mode": {
    "name": "ipython",
    "version": 3
   },
   "file_extension": ".py",
   "mimetype": "text/x-python",
   "name": "python",
   "nbconvert_exporter": "python",
   "pygments_lexer": "ipython3",
   "version": "3.7.5"
  }
 },
 "nbformat": 4,
 "nbformat_minor": 2
}
